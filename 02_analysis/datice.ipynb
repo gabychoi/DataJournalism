{
  "nbformat": 4,
  "nbformat_minor": 0,
  "metadata": {
    "colab": {
      "name": "datice.ipynb",
      "provenance": [],
      "collapsed_sections": [],
      "authorship_tag": "ABX9TyOPe4DQAZqqG8PaxzjhWGcr",
      "include_colab_link": true
    },
    "kernelspec": {
      "name": "python3",
      "display_name": "Python 3"
    }
  },
  "cells": [
    {
      "cell_type": "markdown",
      "metadata": {
        "id": "view-in-github",
        "colab_type": "text"
      },
      "source": [
        "<a href=\"https://colab.research.google.com/github/gabychoi/DataJournalism/blob/main/datice.ipynb\" target=\"_parent\"><img src=\"https://colab.research.google.com/assets/colab-badge.svg\" alt=\"Open In Colab\"/></a>"
      ]
    },
    {
      "cell_type": "code",
      "metadata": {
        "id": "ony1NsqCTlDu"
      },
      "source": [
        "import warnings\n",
        "\n",
        "warnings.filterwarnings('ignore')"
      ],
      "execution_count": null,
      "outputs": []
    },
    {
      "cell_type": "code",
      "metadata": {
        "colab": {
          "base_uri": "https://localhost:8080/"
        },
        "id": "tuKf7ZDDT-ZB",
        "outputId": "9864ce8d-0688-48c9-aa09-e7397d0b23fa"
      },
      "source": [
        "import pandas as pd\n",
        "import numpy as np \n",
        "from google.colab import drive\n",
        "drive.mount('/content/gdrive')"
      ],
      "execution_count": null,
      "outputs": [
        {
          "output_type": "stream",
          "text": [
            "Mounted at /content/gdrive\n"
          ],
          "name": "stdout"
        }
      ]
    },
    {
      "cell_type": "code",
      "metadata": {
        "id": "VTKn4HMYU9Ao"
      },
      "source": [
        "raw_data = pd.read_csv('/content/gdrive/My Drive/data/data.csv')"
      ],
      "execution_count": 6,
      "outputs": []
    },
    {
      "cell_type": "code",
      "metadata": {
        "id": "t09qoPBnMesj",
        "outputId": "38401951-04d4-43ee-da8a-41a94c00df29",
        "colab": {
          "base_uri": "https://localhost:8080/",
          "height": 255
        }
      },
      "source": [
        "raw_data.head()"
      ],
      "execution_count": 7,
      "outputs": [
        {
          "output_type": "execute_result",
          "data": {
            "text/html": [
              "<div>\n",
              "<style scoped>\n",
              "    .dataframe tbody tr th:only-of-type {\n",
              "        vertical-align: middle;\n",
              "    }\n",
              "\n",
              "    .dataframe tbody tr th {\n",
              "        vertical-align: top;\n",
              "    }\n",
              "\n",
              "    .dataframe thead th {\n",
              "        text-align: right;\n",
              "    }\n",
              "</style>\n",
              "<table border=\"1\" class=\"dataframe\">\n",
              "  <thead>\n",
              "    <tr style=\"text-align: right;\">\n",
              "      <th></th>\n",
              "      <th>순번</th>\n",
              "      <th>2심 법원</th>\n",
              "      <th>선고 일자</th>\n",
              "      <th>사건 번호</th>\n",
              "      <th>죄명</th>\n",
              "      <th>공소사실</th>\n",
              "      <th>1심의 결정적 유죄 증거</th>\n",
              "      <th>항소 요지</th>\n",
              "      <th>2심 무죄근거 의 요지</th>\n",
              "      <th>1심과 판단을 달리 한 주요 계기</th>\n",
              "      <th>특기사항</th>\n",
              "    </tr>\n",
              "  </thead>\n",
              "  <tbody>\n",
              "    <tr>\n",
              "      <th>0</th>\n",
              "      <td>NaN</td>\n",
              "      <td>NaN</td>\n",
              "      <td>NaN</td>\n",
              "      <td>NaN</td>\n",
              "      <td>NaN</td>\n",
              "      <td>NaN</td>\n",
              "      <td>NaN</td>\n",
              "      <td>NaN</td>\n",
              "      <td>NaN</td>\n",
              "      <td>NaN</td>\n",
              "      <td>NaN</td>\n",
              "    </tr>\n",
              "    <tr>\n",
              "      <th>1</th>\n",
              "      <td>1.0</td>\n",
              "      <td>광주 고</td>\n",
              "      <td>95.1 1.22</td>\n",
              "      <td>95노 515</td>\n",
              "      <td>강도</td>\n",
              "      <td>심야주거침입 강도미수 3회, 준강도 1회</td>\n",
              "      <td>자백, 피해자 들 진술, 물 증</td>\n",
              "      <td>행위 무</td>\n",
              "      <td>자백의 신빙성 부정</td>\n",
              "      <td>NaN</td>\n",
              "      <td>NaN</td>\n",
              "    </tr>\n",
              "    <tr>\n",
              "      <th>2</th>\n",
              "      <td>NaN</td>\n",
              "      <td>NaN</td>\n",
              "      <td>NaN</td>\n",
              "      <td>NaN</td>\n",
              "      <td>NaN</td>\n",
              "      <td>NaN</td>\n",
              "      <td>NaN</td>\n",
              "      <td>NaN</td>\n",
              "      <td>NaN</td>\n",
              "      <td>NaN</td>\n",
              "      <td>NaN</td>\n",
              "    </tr>\n",
              "    <tr>\n",
              "      <th>3</th>\n",
              "      <td>2.0</td>\n",
              "      <td>광주 고</td>\n",
              "      <td>97.4. 9.</td>\n",
              "      <td>97노 13</td>\n",
              "      <td>살인</td>\n",
              "      <td>주거침입 강 간시도 살해</td>\n",
              "      <td>경찰, 검찰 자백.</td>\n",
              "      <td>행위 무</td>\n",
              "      <td>검찰자백 신빙성 부정, 목 격자 진 술의 비 일관성</td>\n",
              "      <td>범행에 이른 경위 의 비상식성</td>\n",
              "      <td>NaN</td>\n",
              "    </tr>\n",
              "    <tr>\n",
              "      <th>4</th>\n",
              "      <td>NaN</td>\n",
              "      <td>NaN</td>\n",
              "      <td>NaN</td>\n",
              "      <td>NaN</td>\n",
              "      <td>NaN</td>\n",
              "      <td>NaN</td>\n",
              "      <td>NaN</td>\n",
              "      <td>NaN</td>\n",
              "      <td>NaN</td>\n",
              "      <td>NaN</td>\n",
              "      <td>NaN</td>\n",
              "    </tr>\n",
              "  </tbody>\n",
              "</table>\n",
              "</div>"
            ],
            "text/plain": [
              "   순번  2심 법원   ... 1심과 판단을 달리 한 주요 계기  특기사항 \n",
              "0  NaN    NaN  ...                 NaN   NaN\n",
              "1  1.0  광주 고   ...                 NaN   NaN\n",
              "2  NaN    NaN  ...                 NaN   NaN\n",
              "3  2.0  광주 고   ...   범행에 이른 경위 의 비상식성    NaN\n",
              "4  NaN    NaN  ...                 NaN   NaN\n",
              "\n",
              "[5 rows x 11 columns]"
            ]
          },
          "metadata": {
            "tags": []
          },
          "execution_count": 7
        }
      ]
    }
  ]
}