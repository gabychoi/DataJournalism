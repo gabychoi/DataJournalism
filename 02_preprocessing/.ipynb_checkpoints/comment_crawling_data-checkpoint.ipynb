{
 "cells": [
  {
   "cell_type": "code",
   "execution_count": 17,
   "metadata": {
    "colab": {
     "base_uri": "https://localhost:8080/"
    },
    "executionInfo": {
     "elapsed": 24644,
     "status": "ok",
     "timestamp": 1605490685575,
     "user": {
      "displayName": "Hojin Choi",
      "photoUrl": "https://lh3.googleusercontent.com/a-/AOh14GiKAx55m5hXi5Rbbsx5DyDwnw_HwKaG7NOWOzut=s64",
      "userId": "03305051106175374834"
     },
     "user_tz": -540
    },
    "id": "hwhRIOTSnHDD",
    "outputId": "1415d947-359b-4824-a0f9-d3e9e27aebe9"
   },
   "outputs": [
    {
     "name": "stdout",
     "output_type": "stream",
     "text": [
      "Mounted at /content/gdrive\n"
     ]
    }
   ],
   "source": [
    "import pandas as pd\n",
    "import numpy as np \n",
    "from google.colab import drive\n",
    "drive.mount('/content/gdrive')"
   ]
  },
  {
   "cell_type": "code",
   "execution_count": 112,
   "metadata": {
    "colab": {
     "base_uri": "https://localhost:8080/"
    },
    "executionInfo": {
     "elapsed": 881,
     "status": "ok",
     "timestamp": 1605503264969,
     "user": {
      "displayName": "Hojin Choi",
      "photoUrl": "https://lh3.googleusercontent.com/a-/AOh14GiKAx55m5hXi5Rbbsx5DyDwnw_HwKaG7NOWOzut=s64",
      "userId": "03305051106175374834"
     },
     "user_tz": -540
    },
    "id": "YYt4R3lNn9pN",
    "outputId": "faa2be44-453f-4956-ff91-36ebbc48c7a6"
   },
   "outputs": [
    {
     "name": "stdout",
     "output_type": "stream",
     "text": [
      "<class 'pandas.core.frame.DataFrame'>\n",
      "RangeIndex: 652 entries, 0 to 651\n",
      "Data columns (total 2 columns):\n",
      " #   Column      Non-Null Count  Dtype \n",
      "---  ------      --------------  ----- \n",
      " 0   Unnamed: 0  652 non-null    int64 \n",
      " 1   댓글          652 non-null    object\n",
      "dtypes: int64(1), object(1)\n",
      "memory usage: 10.3+ KB\n"
     ]
    }
   ],
   "source": [
    "# 고영욱\n",
    "koyoung = pd.read_csv('/content/gdrive/My Drive/project-data/고영욱.csv')\n",
    "koyoung.info()"
   ]
  },
  {
   "cell_type": "code",
   "execution_count": 113,
   "metadata": {
    "colab": {
     "base_uri": "https://localhost:8080/"
    },
    "executionInfo": {
     "elapsed": 952,
     "status": "ok",
     "timestamp": 1605503274100,
     "user": {
      "displayName": "Hojin Choi",
      "photoUrl": "https://lh3.googleusercontent.com/a-/AOh14GiKAx55m5hXi5Rbbsx5DyDwnw_HwKaG7NOWOzut=s64",
      "userId": "03305051106175374834"
     },
     "user_tz": -540
    },
    "id": "tGsmZf6FtBPT",
    "outputId": "627cbd07-b729-4f6d-a5f6-722be39d92b9"
   },
   "outputs": [
    {
     "name": "stdout",
     "output_type": "stream",
     "text": [
      "<class 'pandas.core.frame.DataFrame'>\n",
      "RangeIndex: 4921 entries, 0 to 4920\n",
      "Data columns (total 2 columns):\n",
      " #   Column      Non-Null Count  Dtype \n",
      "---  ------      --------------  ----- \n",
      " 0   Unnamed: 0  4921 non-null   int64 \n",
      " 1   댓글          4921 non-null   object\n",
      "dtypes: int64(1), object(1)\n",
      "memory usage: 77.0+ KB\n"
     ]
    }
   ],
   "source": [
    "# 김계란\n",
    "egg = pd.read_csv('/content/gdrive/My Drive/project-data/김계란.csv')\n",
    "egg.info()"
   ]
  },
  {
   "cell_type": "code",
   "execution_count": 62,
   "metadata": {
    "colab": {
     "base_uri": "https://localhost:8080/"
    },
    "executionInfo": {
     "elapsed": 913,
     "status": "ok",
     "timestamp": 1605492494629,
     "user": {
      "displayName": "Hojin Choi",
      "photoUrl": "https://lh3.googleusercontent.com/a-/AOh14GiKAx55m5hXi5Rbbsx5DyDwnw_HwKaG7NOWOzut=s64",
      "userId": "03305051106175374834"
     },
     "user_tz": -540
    },
    "id": "X0tICd-vthn1",
    "outputId": "28a71d09-7168-4c1c-e7c7-b7769e4979b0"
   },
   "outputs": [
    {
     "name": "stdout",
     "output_type": "stream",
     "text": [
      "<class 'pandas.core.frame.DataFrame'>\n",
      "RangeIndex: 2015 entries, 0 to 2014\n",
      "Data columns (total 2 columns):\n",
      " #   Column      Non-Null Count  Dtype \n",
      "---  ------      --------------  ----- \n",
      " 0   Unnamed: 0  2015 non-null   int64 \n",
      " 1   댓글          2015 non-null   object\n",
      "dtypes: int64(1), object(1)\n",
      "memory usage: 31.6+ KB\n"
     ]
    }
   ],
   "source": [
    "# 박성광\n",
    "parksung = pd.read_csv('/content/gdrive/My Drive/project-data/박성광.csv')\n",
    "parksung.info()"
   ]
  },
  {
   "cell_type": "code",
   "execution_count": 63,
   "metadata": {
    "colab": {
     "base_uri": "https://localhost:8080/"
    },
    "executionInfo": {
     "elapsed": 909,
     "status": "ok",
     "timestamp": 1605492496325,
     "user": {
      "displayName": "Hojin Choi",
      "photoUrl": "https://lh3.googleusercontent.com/a-/AOh14GiKAx55m5hXi5Rbbsx5DyDwnw_HwKaG7NOWOzut=s64",
      "userId": "03305051106175374834"
     },
     "user_tz": -540
    },
    "id": "SZeZen15tv-P",
    "outputId": "725c8b96-f1d1-407a-866c-7ef07aec7b11"
   },
   "outputs": [
    {
     "name": "stdout",
     "output_type": "stream",
     "text": [
      "<class 'pandas.core.frame.DataFrame'>\n",
      "RangeIndex: 613 entries, 0 to 612\n",
      "Data columns (total 2 columns):\n",
      " #   Column      Non-Null Count  Dtype \n",
      "---  ------      --------------  ----- \n",
      " 0   Unnamed: 0  613 non-null    int64 \n",
      " 1   댓글          613 non-null    object\n",
      "dtypes: int64(1), object(1)\n",
      "memory usage: 9.7+ KB\n"
     ]
    }
   ],
   "source": [
    "# 배다해\n",
    "baeda = pd.read_csv('/content/gdrive/My Drive/project-data/배다해.csv')\n",
    "baeda.info()"
   ]
  },
  {
   "cell_type": "code",
   "execution_count": 64,
   "metadata": {
    "colab": {
     "base_uri": "https://localhost:8080/"
    },
    "executionInfo": {
     "elapsed": 910,
     "status": "ok",
     "timestamp": 1605492498853,
     "user": {
      "displayName": "Hojin Choi",
      "photoUrl": "https://lh3.googleusercontent.com/a-/AOh14GiKAx55m5hXi5Rbbsx5DyDwnw_HwKaG7NOWOzut=s64",
      "userId": "03305051106175374834"
     },
     "user_tz": -540
    },
    "id": "DbQfVXitt2g3",
    "outputId": "59a15615-6450-4868-ae18-182df9d95cb3"
   },
   "outputs": [
    {
     "name": "stdout",
     "output_type": "stream",
     "text": [
      "<class 'pandas.core.frame.DataFrame'>\n",
      "RangeIndex: 1398 entries, 0 to 1397\n",
      "Data columns (total 2 columns):\n",
      " #   Column      Non-Null Count  Dtype \n",
      "---  ------      --------------  ----- \n",
      " 0   Unnamed: 0  1398 non-null   int64 \n",
      " 1   댓글          1386 non-null   object\n",
      "dtypes: int64(1), object(1)\n",
      "memory usage: 22.0+ KB\n"
     ]
    }
   ],
   "source": [
    "# 스윙스\n",
    "swings = pd.read_csv('/content/gdrive/My Drive/project-data/스윙스.csv')\n",
    "swings.info()"
   ]
  },
  {
   "cell_type": "code",
   "execution_count": 41,
   "metadata": {
    "colab": {
     "base_uri": "https://localhost:8080/"
    },
    "executionInfo": {
     "elapsed": 1234,
     "status": "ok",
     "timestamp": 1605491683139,
     "user": {
      "displayName": "Hojin Choi",
      "photoUrl": "https://lh3.googleusercontent.com/a-/AOh14GiKAx55m5hXi5Rbbsx5DyDwnw_HwKaG7NOWOzut=s64",
      "userId": "03305051106175374834"
     },
     "user_tz": -540
    },
    "id": "NQRANQVIt91_",
    "outputId": "2846375e-7862-4ab5-8706-09fac0224425"
   },
   "outputs": [
    {
     "name": "stdout",
     "output_type": "stream",
     "text": [
      "<class 'pandas.core.frame.DataFrame'>\n",
      "RangeIndex: 1966 entries, 0 to 1965\n",
      "Data columns (total 2 columns):\n",
      " #   Column      Non-Null Count  Dtype \n",
      "---  ------      --------------  ----- \n",
      " 0   Unnamed: 0  1966 non-null   int64 \n",
      " 1   댓글          1966 non-null   object\n",
      "dtypes: int64(1), object(1)\n",
      "memory usage: 30.8+ KB\n"
     ]
    }
   ],
   "source": [
    "# 에브리타임\n",
    "everytime = pd.read_csv('/content/gdrive/My Drive/project-data/에브리타임_댓글_1113.csv')\n",
    "everytime.info()"
   ]
  },
  {
   "cell_type": "code",
   "execution_count": 27,
   "metadata": {
    "colab": {
     "base_uri": "https://localhost:8080/"
    },
    "executionInfo": {
     "elapsed": 1319,
     "status": "ok",
     "timestamp": 1605491051615,
     "user": {
      "displayName": "Hojin Choi",
      "photoUrl": "https://lh3.googleusercontent.com/a-/AOh14GiKAx55m5hXi5Rbbsx5DyDwnw_HwKaG7NOWOzut=s64",
      "userId": "03305051106175374834"
     },
     "user_tz": -540
    },
    "id": "3J2s7d9AuL5d",
    "outputId": "ea5da91d-8a96-4238-e100-a98c22d15278"
   },
   "outputs": [
    {
     "name": "stdout",
     "output_type": "stream",
     "text": [
      "<class 'pandas.core.frame.DataFrame'>\n",
      "RangeIndex: 10759 entries, 0 to 10758\n",
      "Data columns (total 2 columns):\n",
      " #   Column      Non-Null Count  Dtype \n",
      "---  ------      --------------  ----- \n",
      " 0   Unnamed: 0  10759 non-null  int64 \n",
      " 1   댓글          10759 non-null  object\n",
      "dtypes: int64(1), object(1)\n",
      "memory usage: 168.2+ KB\n"
     ]
    }
   ],
   "source": [
    "# 여행에미치다\n",
    "travel = pd.read_csv('/content/gdrive/My Drive/project-data/여행에 미치다.csv')\n",
    "travel.info()"
   ]
  },
  {
   "cell_type": "code",
   "execution_count": 28,
   "metadata": {
    "colab": {
     "base_uri": "https://localhost:8080/"
    },
    "executionInfo": {
     "elapsed": 1276,
     "status": "ok",
     "timestamp": 1605491106400,
     "user": {
      "displayName": "Hojin Choi",
      "photoUrl": "https://lh3.googleusercontent.com/a-/AOh14GiKAx55m5hXi5Rbbsx5DyDwnw_HwKaG7NOWOzut=s64",
      "userId": "03305051106175374834"
     },
     "user_tz": -540
    },
    "id": "E4JdY-WZuVOe",
    "outputId": "72dd9ce1-a776-4d35-efb1-5568879e8791"
   },
   "outputs": [
    {
     "name": "stdout",
     "output_type": "stream",
     "text": [
      "<class 'pandas.core.frame.DataFrame'>\n",
      "RangeIndex: 3995 entries, 0 to 3994\n",
      "Data columns (total 2 columns):\n",
      " #   Column      Non-Null Count  Dtype \n",
      "---  ------      --------------  ----- \n",
      " 0   Unnamed: 0  3995 non-null   int64 \n",
      " 1   댓글          3995 non-null   object\n",
      "dtypes: int64(1), object(1)\n",
      "memory usage: 62.5+ KB\n"
     ]
    }
   ],
   "source": [
    "# 유머 짤\n",
    "humor = pd.read_csv('/content/gdrive/My Drive/project-data/유머 짤.csv')\n",
    "humor.info()"
   ]
  },
  {
   "cell_type": "code",
   "execution_count": 29,
   "metadata": {
    "colab": {
     "base_uri": "https://localhost:8080/"
    },
    "executionInfo": {
     "elapsed": 1295,
     "status": "ok",
     "timestamp": 1605491170283,
     "user": {
      "displayName": "Hojin Choi",
      "photoUrl": "https://lh3.googleusercontent.com/a-/AOh14GiKAx55m5hXi5Rbbsx5DyDwnw_HwKaG7NOWOzut=s64",
      "userId": "03305051106175374834"
     },
     "user_tz": -540
    },
    "id": "iLoabXswuirO",
    "outputId": "732283b2-fe9d-4e21-93d2-61d4d924a6dd"
   },
   "outputs": [
    {
     "name": "stdout",
     "output_type": "stream",
     "text": [
      "<class 'pandas.core.frame.DataFrame'>\n",
      "RangeIndex: 848 entries, 0 to 847\n",
      "Data columns (total 2 columns):\n",
      " #   Column      Non-Null Count  Dtype \n",
      "---  ------      --------------  ----- \n",
      " 0   Unnamed: 0  848 non-null    int64 \n",
      " 1   댓글          764 non-null    object\n",
      "dtypes: int64(1), object(1)\n",
      "memory usage: 13.4+ KB\n"
     ]
    }
   ],
   "source": [
    "# 이상민\n",
    "leesangmin = pd.read_csv('/content/gdrive/My Drive/project-data/이상민.csv')\n",
    "leesangmin.info()"
   ]
  },
  {
   "cell_type": "code",
   "execution_count": 30,
   "metadata": {
    "colab": {
     "base_uri": "https://localhost:8080/"
    },
    "executionInfo": {
     "elapsed": 1261,
     "status": "ok",
     "timestamp": 1605491203487,
     "user": {
      "displayName": "Hojin Choi",
      "photoUrl": "https://lh3.googleusercontent.com/a-/AOh14GiKAx55m5hXi5Rbbsx5DyDwnw_HwKaG7NOWOzut=s64",
      "userId": "03305051106175374834"
     },
     "user_tz": -540
    },
    "id": "cwu4sC3_ui0X",
    "outputId": "29079469-909f-4790-8ed0-2e27ab6b72b0"
   },
   "outputs": [
    {
     "name": "stdout",
     "output_type": "stream",
     "text": [
      "<class 'pandas.core.frame.DataFrame'>\n",
      "RangeIndex: 1023 entries, 0 to 1022\n",
      "Data columns (total 2 columns):\n",
      " #   Column      Non-Null Count  Dtype \n",
      "---  ------      --------------  ----- \n",
      " 0   Unnamed: 0  1023 non-null   int64 \n",
      " 1   댓글          1023 non-null   object\n",
      "dtypes: int64(1), object(1)\n",
      "memory usage: 16.1+ KB\n"
     ]
    }
   ],
   "source": [
    "# 이슈콕\n",
    "issue = pd.read_csv('/content/gdrive/My Drive/project-data/이슈 콕.csv')\n",
    "issue.info()"
   ]
  },
  {
   "cell_type": "code",
   "execution_count": 31,
   "metadata": {
    "colab": {
     "base_uri": "https://localhost:8080/"
    },
    "executionInfo": {
     "elapsed": 1295,
     "status": "ok",
     "timestamp": 1605491266831,
     "user": {
      "displayName": "Hojin Choi",
      "photoUrl": "https://lh3.googleusercontent.com/a-/AOh14GiKAx55m5hXi5Rbbsx5DyDwnw_HwKaG7NOWOzut=s64",
      "userId": "03305051106175374834"
     },
     "user_tz": -540
    },
    "id": "JEOL3p_9ui8o",
    "outputId": "c35249d4-6530-496d-8da8-13f8e81e563c"
   },
   "outputs": [
    {
     "name": "stdout",
     "output_type": "stream",
     "text": [
      "<class 'pandas.core.frame.DataFrame'>\n",
      "RangeIndex: 2970 entries, 0 to 2969\n",
      "Data columns (total 2 columns):\n",
      " #   Column      Non-Null Count  Dtype \n",
      "---  ------      --------------  ----- \n",
      " 0   Unnamed: 0  2970 non-null   int64 \n",
      " 1   댓글          2969 non-null   object\n",
      "dtypes: int64(1), object(1)\n",
      "memory usage: 46.5+ KB\n"
     ]
    }
   ],
   "source": [
    "# # 일베걸그룹연예인제목\n",
    "# ilbe_girl = pd.read_csv('/content/gdrive/My Drive/project-data/일베_걸그룹연예인게시판_타이틀.csv')\n",
    "# ilbe_girl.info()"
   ]
  },
  {
   "cell_type": "code",
   "execution_count": 33,
   "metadata": {
    "colab": {
     "base_uri": "https://localhost:8080/"
    },
    "executionInfo": {
     "elapsed": 920,
     "status": "ok",
     "timestamp": 1605491416364,
     "user": {
      "displayName": "Hojin Choi",
      "photoUrl": "https://lh3.googleusercontent.com/a-/AOh14GiKAx55m5hXi5Rbbsx5DyDwnw_HwKaG7NOWOzut=s64",
      "userId": "03305051106175374834"
     },
     "user_tz": -540
    },
    "id": "9RPqbUlAvKNj",
    "outputId": "61981716-071b-49c2-e74e-dbf729afa753"
   },
   "outputs": [
    {
     "name": "stdout",
     "output_type": "stream",
     "text": [
      "<class 'pandas.core.frame.DataFrame'>\n",
      "RangeIndex: 57511 entries, 0 to 57510\n",
      "Data columns (total 2 columns):\n",
      " #   Column      Non-Null Count  Dtype \n",
      "---  ------      --------------  ----- \n",
      " 0   Unnamed: 0  57511 non-null  int64 \n",
      " 1   댓글          57510 non-null  object\n",
      "dtypes: int64(1), object(1)\n",
      "memory usage: 898.7+ KB\n"
     ]
    }
   ],
   "source": [
    "# 일베베스트게시물댓글_최근12페이지\n",
    "ilbe_best_recent = pd.read_csv('/content/gdrive/My Drive/project-data/일베_일간베스트게시물_댓글_최근12페이지.csv')\n",
    "ilbe_best_recent.info()"
   ]
  },
  {
   "cell_type": "code",
   "execution_count": 87,
   "metadata": {
    "colab": {
     "base_uri": "https://localhost:8080/"
    },
    "executionInfo": {
     "elapsed": 953,
     "status": "ok",
     "timestamp": 1605498666313,
     "user": {
      "displayName": "Hojin Choi",
      "photoUrl": "https://lh3.googleusercontent.com/a-/AOh14GiKAx55m5hXi5Rbbsx5DyDwnw_HwKaG7NOWOzut=s64",
      "userId": "03305051106175374834"
     },
     "user_tz": -540
    },
    "id": "O_qHbtPavKTg",
    "outputId": "21257e93-5c5e-4a5d-a6dc-5a0cc469cef7"
   },
   "outputs": [
    {
     "name": "stdout",
     "output_type": "stream",
     "text": [
      "<class 'pandas.core.frame.DataFrame'>\n",
      "RangeIndex: 53806 entries, 0 to 53805\n",
      "Data columns (total 2 columns):\n",
      " #   Column      Non-Null Count  Dtype \n",
      "---  ------      --------------  ----- \n",
      " 0   Unnamed: 0  53806 non-null  int64 \n",
      " 1   댓글          53805 non-null  object\n",
      "dtypes: int64(1), object(1)\n",
      "memory usage: 840.8+ KB\n"
     ]
    }
   ],
   "source": [
    "# # 일베베스트게시물댓글\n",
    "# ilbe_best = pd.read_csv('/content/gdrive/My Drive/project-data/일베_일간베스트게시물_댓글.csv')\n",
    "# ilbe_best.info()"
   ]
  },
  {
   "cell_type": "code",
   "execution_count": 42,
   "metadata": {
    "colab": {
     "base_uri": "https://localhost:8080/"
    },
    "executionInfo": {
     "elapsed": 873,
     "status": "ok",
     "timestamp": 1605491692784,
     "user": {
      "displayName": "Hojin Choi",
      "photoUrl": "https://lh3.googleusercontent.com/a-/AOh14GiKAx55m5hXi5Rbbsx5DyDwnw_HwKaG7NOWOzut=s64",
      "userId": "03305051106175374834"
     },
     "user_tz": -540
    },
    "id": "R_LFBBYRvKWT",
    "outputId": "4225fcdd-2c09-40ae-e36f-1afb2c0ee66c"
   },
   "outputs": [
    {
     "name": "stdout",
     "output_type": "stream",
     "text": [
      "<class 'pandas.core.frame.DataFrame'>\n",
      "RangeIndex: 1783 entries, 0 to 1782\n",
      "Data columns (total 2 columns):\n",
      " #   Column      Non-Null Count  Dtype \n",
      "---  ------      --------------  ----- \n",
      " 0   Unnamed: 0  1783 non-null   int64 \n",
      " 1   댓글          1783 non-null   object\n",
      "dtypes: int64(1), object(1)\n",
      "memory usage: 28.0+ KB\n"
     ]
    }
   ],
   "source": [
    "# 함소원\n",
    "hamsowon = pd.read_csv('/content/gdrive/My Drive/project-data/함소원.csv')\n",
    "hamsowon.info()"
   ]
  },
  {
   "cell_type": "code",
   "execution_count": 54,
   "metadata": {
    "colab": {
     "base_uri": "https://localhost:8080/"
    },
    "executionInfo": {
     "elapsed": 880,
     "status": "ok",
     "timestamp": 1605492207388,
     "user": {
      "displayName": "Hojin Choi",
      "photoUrl": "https://lh3.googleusercontent.com/a-/AOh14GiKAx55m5hXi5Rbbsx5DyDwnw_HwKaG7NOWOzut=s64",
      "userId": "03305051106175374834"
     },
     "user_tz": -540
    },
    "id": "UlSjLiICvKY1",
    "outputId": "ec92bc9d-8eb1-44e5-94c6-9de3a28d2cfb"
   },
   "outputs": [
    {
     "name": "stdout",
     "output_type": "stream",
     "text": [
      "<class 'pandas.core.frame.DataFrame'>\n",
      "RangeIndex: 973 entries, 0 to 972\n",
      "Data columns (total 2 columns):\n",
      " #   Column      Non-Null Count  Dtype \n",
      "---  ------      --------------  ----- \n",
      " 0   Unnamed: 0  973 non-null    int64 \n",
      " 1   댓글          973 non-null    object\n",
      "dtypes: int64(1), object(1)\n",
      "memory usage: 15.3+ KB\n"
     ]
    }
   ],
   "source": [
    "# 홍석천\n",
    "hongsuk = pd.read_csv('/content/gdrive/My Drive/project-data/홍석천.csv')\n",
    "hongsuk.info()"
   ]
  },
  {
   "cell_type": "code",
   "execution_count": 52,
   "metadata": {
    "colab": {
     "base_uri": "https://localhost:8080/"
    },
    "executionInfo": {
     "elapsed": 890,
     "status": "ok",
     "timestamp": 1605492192269,
     "user": {
      "displayName": "Hojin Choi",
      "photoUrl": "https://lh3.googleusercontent.com/a-/AOh14GiKAx55m5hXi5Rbbsx5DyDwnw_HwKaG7NOWOzut=s64",
      "userId": "03305051106175374834"
     },
     "user_tz": -540
    },
    "id": "kw36fclVujDH",
    "outputId": "abc883b9-1315-47b0-b766-1d7349cf261d"
   },
   "outputs": [
    {
     "name": "stdout",
     "output_type": "stream",
     "text": [
      "<class 'pandas.core.frame.DataFrame'>\n",
      "RangeIndex: 25359 entries, 0 to 25358\n",
      "Data columns (total 2 columns):\n",
      " #   Column      Non-Null Count  Dtype \n",
      "---  ------      --------------  ----- \n",
      " 0   Unnamed: 0  25359 non-null  int64 \n",
      " 1   제목          25359 non-null  object\n",
      "dtypes: int64(1), object(1)\n",
      "memory usage: 396.4+ KB\n"
     ]
    }
   ],
   "source": [
    "# # 디씨인사이드\n",
    "# dc = pd.read_csv('/content/gdrive/My Drive/project-data/dc_word.csv')\n",
    "# dc.info()"
   ]
  },
  {
   "cell_type": "code",
   "execution_count": 78,
   "metadata": {
    "colab": {
     "base_uri": "https://localhost:8080/"
    },
    "executionInfo": {
     "elapsed": 1291,
     "status": "ok",
     "timestamp": 1605494297107,
     "user": {
      "displayName": "Hojin Choi",
      "photoUrl": "https://lh3.googleusercontent.com/a-/AOh14GiKAx55m5hXi5Rbbsx5DyDwnw_HwKaG7NOWOzut=s64",
      "userId": "03305051106175374834"
     },
     "user_tz": -540
    },
    "id": "SvxoLqd9zHvw",
    "outputId": "e7ed7554-d24d-442c-b616-14f341881aac"
   },
   "outputs": [
    {
     "name": "stdout",
     "output_type": "stream",
     "text": [
      "<class 'pandas.core.frame.DataFrame'>\n",
      "RangeIndex: 463 entries, 0 to 462\n",
      "Data columns (total 2 columns):\n",
      " #   Column      Non-Null Count  Dtype \n",
      "---  ------      --------------  ----- \n",
      " 0   Unnamed: 0  463 non-null    int64 \n",
      " 1   댓글          463 non-null    object\n",
      "dtypes: int64(1), object(1)\n",
      "memory usage: 7.4+ KB\n"
     ]
    }
   ],
   "source": [
    "# 인스타 이슈\n",
    "insta_issue = pd.read_csv('/content/gdrive/My Drive/project-data/이슈이슈.csv')\n",
    "insta_issue.info()"
   ]
  },
  {
   "cell_type": "code",
   "execution_count": 80,
   "metadata": {
    "colab": {
     "base_uri": "https://localhost:8080/"
    },
    "executionInfo": {
     "elapsed": 1282,
     "status": "ok",
     "timestamp": 1605494578506,
     "user": {
      "displayName": "Hojin Choi",
      "photoUrl": "https://lh3.googleusercontent.com/a-/AOh14GiKAx55m5hXi5Rbbsx5DyDwnw_HwKaG7NOWOzut=s64",
      "userId": "03305051106175374834"
     },
     "user_tz": -540
    },
    "id": "9ralQH-o7skd",
    "outputId": "ff230cca-2a1b-487c-94d3-fbbb30d7c50e"
   },
   "outputs": [
    {
     "name": "stdout",
     "output_type": "stream",
     "text": [
      "<class 'pandas.core.frame.DataFrame'>\n",
      "RangeIndex: 1176 entries, 0 to 1175\n",
      "Data columns (total 2 columns):\n",
      " #   Column      Non-Null Count  Dtype \n",
      "---  ------      --------------  ----- \n",
      " 0   Unnamed: 0  1176 non-null   int64 \n",
      " 1   댓글          1176 non-null   object\n",
      "dtypes: int64(1), object(1)\n",
      "memory usage: 18.5+ KB\n"
     ]
    }
   ],
   "source": [
    "# 최자\n",
    "choija = pd.read_csv('/content/gdrive/My Drive/project-data/최자.csv')\n",
    "choija.info()"
   ]
  },
  {
   "cell_type": "code",
   "execution_count": 83,
   "metadata": {
    "colab": {
     "base_uri": "https://localhost:8080/"
    },
    "executionInfo": {
     "elapsed": 1357,
     "status": "ok",
     "timestamp": 1605497830710,
     "user": {
      "displayName": "Hojin Choi",
      "photoUrl": "https://lh3.googleusercontent.com/a-/AOh14GiKAx55m5hXi5Rbbsx5DyDwnw_HwKaG7NOWOzut=s64",
      "userId": "03305051106175374834"
     },
     "user_tz": -540
    },
    "id": "DPgSN3YIICA6",
    "outputId": "488e4d57-b346-4367-bfdd-a71209ace39d"
   },
   "outputs": [
    {
     "name": "stdout",
     "output_type": "stream",
     "text": [
      "<class 'pandas.core.frame.DataFrame'>\n",
      "RangeIndex: 883 entries, 0 to 882\n",
      "Data columns (total 2 columns):\n",
      " #   Column      Non-Null Count  Dtype \n",
      "---  ------      --------------  ----- \n",
      " 0   Unnamed: 0  883 non-null    int64 \n",
      " 1   댓글          883 non-null    object\n",
      "dtypes: int64(1), object(1)\n",
      "memory usage: 13.9+ KB\n"
     ]
    }
   ],
   "source": [
    "# jtbc뉴스\n",
    "jtbc = pd.read_csv('/content/gdrive/My Drive/project-data/JTBCNEWS_인스타_댓글_1116.csv')\n",
    "jtbc.info()"
   ]
  },
  {
   "cell_type": "code",
   "execution_count": 84,
   "metadata": {
    "colab": {
     "base_uri": "https://localhost:8080/"
    },
    "executionInfo": {
     "elapsed": 1344,
     "status": "ok",
     "timestamp": 1605497861306,
     "user": {
      "displayName": "Hojin Choi",
      "photoUrl": "https://lh3.googleusercontent.com/a-/AOh14GiKAx55m5hXi5Rbbsx5DyDwnw_HwKaG7NOWOzut=s64",
      "userId": "03305051106175374834"
     },
     "user_tz": -540
    },
    "id": "x3OKVChnICJj",
    "outputId": "9fa585b2-6431-4ced-fedb-7a74fd7f69bc"
   },
   "outputs": [
    {
     "name": "stdout",
     "output_type": "stream",
     "text": [
      "<class 'pandas.core.frame.DataFrame'>\n",
      "RangeIndex: 474 entries, 0 to 473\n",
      "Data columns (total 2 columns):\n",
      " #   Column      Non-Null Count  Dtype \n",
      "---  ------      --------------  ----- \n",
      " 0   Unnamed: 0  474 non-null    int64 \n",
      " 1   댓글          474 non-null    object\n",
      "dtypes: int64(1), object(1)\n",
      "memory usage: 7.5+ KB\n"
     ]
    }
   ],
   "source": [
    "# kbs 뉴스\n",
    "kbs = pd.read_csv('/content/gdrive/My Drive/project-data/kbs댓글.csv')\n",
    "kbs.info()"
   ]
  },
  {
   "cell_type": "code",
   "execution_count": 85,
   "metadata": {
    "colab": {
     "base_uri": "https://localhost:8080/"
    },
    "executionInfo": {
     "elapsed": 1322,
     "status": "ok",
     "timestamp": 1605497881065,
     "user": {
      "displayName": "Hojin Choi",
      "photoUrl": "https://lh3.googleusercontent.com/a-/AOh14GiKAx55m5hXi5Rbbsx5DyDwnw_HwKaG7NOWOzut=s64",
      "userId": "03305051106175374834"
     },
     "user_tz": -540
    },
    "id": "_zGbd-c9ICU6",
    "outputId": "258a4917-58c8-4f0c-b6f3-f5408bc5e6cb"
   },
   "outputs": [
    {
     "name": "stdout",
     "output_type": "stream",
     "text": [
      "<class 'pandas.core.frame.DataFrame'>\n",
      "RangeIndex: 117 entries, 0 to 116\n",
      "Data columns (total 2 columns):\n",
      " #   Column      Non-Null Count  Dtype \n",
      "---  ------      --------------  ----- \n",
      " 0   Unnamed: 0  117 non-null    int64 \n",
      " 1   댓글          117 non-null    object\n",
      "dtypes: int64(1), object(1)\n",
      "memory usage: 2.0+ KB\n"
     ]
    }
   ],
   "source": [
    "# mbc 뉴스\n",
    "mbc = pd.read_csv('/content/gdrive/My Drive/project-data/mbc댓글.csv')\n",
    "mbc.info()"
   ]
  },
  {
   "cell_type": "code",
   "execution_count": 89,
   "metadata": {
    "colab": {
     "base_uri": "https://localhost:8080/"
    },
    "executionInfo": {
     "elapsed": 1299,
     "status": "ok",
     "timestamp": 1605501137961,
     "user": {
      "displayName": "Hojin Choi",
      "photoUrl": "https://lh3.googleusercontent.com/a-/AOh14GiKAx55m5hXi5Rbbsx5DyDwnw_HwKaG7NOWOzut=s64",
      "userId": "03305051106175374834"
     },
     "user_tz": -540
    },
    "id": "RAWLudS1UhEM",
    "outputId": "6287a614-cdfc-4981-e634-a83c51b826bc"
   },
   "outputs": [
    {
     "name": "stdout",
     "output_type": "stream",
     "text": [
      "<class 'pandas.core.frame.DataFrame'>\n",
      "RangeIndex: 1324 entries, 0 to 1323\n",
      "Data columns (total 2 columns):\n",
      " #   Column      Non-Null Count  Dtype \n",
      "---  ------      --------------  ----- \n",
      " 0   Unnamed: 0  1324 non-null   int64 \n",
      " 1   댓글          1324 non-null   object\n",
      "dtypes: int64(1), object(1)\n",
      "memory usage: 20.8+ KB\n"
     ]
    }
   ],
   "source": [
    "# 청와대\n",
    "bluehouse = pd.read_csv('/content/gdrive/My Drive/project-data/청와대댓글.csv')\n",
    "bluehouse.info()"
   ]
  },
  {
   "cell_type": "code",
   "execution_count": 93,
   "metadata": {
    "colab": {
     "base_uri": "https://localhost:8080/"
    },
    "executionInfo": {
     "elapsed": 932,
     "status": "ok",
     "timestamp": 1605502276907,
     "user": {
      "displayName": "Hojin Choi",
      "photoUrl": "https://lh3.googleusercontent.com/a-/AOh14GiKAx55m5hXi5Rbbsx5DyDwnw_HwKaG7NOWOzut=s64",
      "userId": "03305051106175374834"
     },
     "user_tz": -540
    },
    "id": "6ivRaXqdXRnm",
    "outputId": "a77aa2ff-a9f6-4e76-e44c-b503c926b954"
   },
   "outputs": [
    {
     "name": "stdout",
     "output_type": "stream",
     "text": [
      "<class 'pandas.core.frame.DataFrame'>\n",
      "RangeIndex: 405 entries, 0 to 404\n",
      "Data columns (total 2 columns):\n",
      " #   Column      Non-Null Count  Dtype \n",
      "---  ------      --------------  ----- \n",
      " 0   Unnamed: 0  405 non-null    int64 \n",
      " 1   댓글          405 non-null    object\n",
      "dtypes: int64(1), object(1)\n",
      "memory usage: 6.5+ KB\n"
     ]
    }
   ],
   "source": [
    "# 위키블루\n",
    "wikiblue = pd.read_csv('/content/gdrive/My Drive/project-data/위키블루.csv')\n",
    "wikiblue.info()"
   ]
  },
  {
   "cell_type": "code",
   "execution_count": 94,
   "metadata": {
    "colab": {
     "base_uri": "https://localhost:8080/"
    },
    "executionInfo": {
     "elapsed": 2192,
     "status": "ok",
     "timestamp": 1605502306967,
     "user": {
      "displayName": "Hojin Choi",
      "photoUrl": "https://lh3.googleusercontent.com/a-/AOh14GiKAx55m5hXi5Rbbsx5DyDwnw_HwKaG7NOWOzut=s64",
      "userId": "03305051106175374834"
     },
     "user_tz": -540
    },
    "id": "Oozy2Vo0XRvh",
    "outputId": "6b85674c-0339-4519-f9a5-ab3578ce7263"
   },
   "outputs": [
    {
     "name": "stdout",
     "output_type": "stream",
     "text": [
      "<class 'pandas.core.frame.DataFrame'>\n",
      "RangeIndex: 3377 entries, 0 to 3376\n",
      "Data columns (total 2 columns):\n",
      " #   Column      Non-Null Count  Dtype \n",
      "---  ------      --------------  ----- \n",
      " 0   Unnamed: 0  3377 non-null   int64 \n",
      " 1   댓글          3377 non-null   object\n",
      "dtypes: int64(1), object(1)\n",
      "memory usage: 52.9+ KB\n"
     ]
    }
   ],
   "source": [
    "# sbs뉴스\n",
    "sbs = pd.read_csv('/content/gdrive/My Drive/project-data/subusunews.csv')\n",
    "sbs.info()"
   ]
  },
  {
   "cell_type": "code",
   "execution_count": 95,
   "metadata": {
    "colab": {
     "base_uri": "https://localhost:8080/"
    },
    "executionInfo": {
     "elapsed": 1300,
     "status": "ok",
     "timestamp": 1605502372854,
     "user": {
      "displayName": "Hojin Choi",
      "photoUrl": "https://lh3.googleusercontent.com/a-/AOh14GiKAx55m5hXi5Rbbsx5DyDwnw_HwKaG7NOWOzut=s64",
      "userId": "03305051106175374834"
     },
     "user_tz": -540
    },
    "id": "nSoCIafaXR23",
    "outputId": "ee388dc1-42bd-48d6-d3e2-c8973b977e86"
   },
   "outputs": [
    {
     "name": "stdout",
     "output_type": "stream",
     "text": [
      "<class 'pandas.core.frame.DataFrame'>\n",
      "RangeIndex: 1405 entries, 0 to 1404\n",
      "Data columns (total 2 columns):\n",
      " #   Column      Non-Null Count  Dtype \n",
      "---  ------      --------------  ----- \n",
      " 0   Unnamed: 0  1405 non-null   int64 \n",
      " 1   댓글          1405 non-null   object\n",
      "dtypes: int64(1), object(1)\n",
      "memory usage: 22.1+ KB\n"
     ]
    }
   ],
   "source": [
    "# ytn\n",
    "ytn = pd.read_csv('/content/gdrive/My Drive/project-data/ytnnews.csv')\n",
    "ytn.info()"
   ]
  },
  {
   "cell_type": "code",
   "execution_count": 96,
   "metadata": {
    "colab": {
     "base_uri": "https://localhost:8080/"
    },
    "executionInfo": {
     "elapsed": 1265,
     "status": "ok",
     "timestamp": 1605502447152,
     "user": {
      "displayName": "Hojin Choi",
      "photoUrl": "https://lh3.googleusercontent.com/a-/AOh14GiKAx55m5hXi5Rbbsx5DyDwnw_HwKaG7NOWOzut=s64",
      "userId": "03305051106175374834"
     },
     "user_tz": -540
    },
    "id": "2Th-ZI3RXR_c",
    "outputId": "507e4347-9782-4be4-91c9-56c898234071"
   },
   "outputs": [
    {
     "name": "stdout",
     "output_type": "stream",
     "text": [
      "<class 'pandas.core.frame.DataFrame'>\n",
      "RangeIndex: 6270 entries, 0 to 6269\n",
      "Data columns (total 2 columns):\n",
      " #   Column      Non-Null Count  Dtype \n",
      "---  ------      --------------  ----- \n",
      " 0   Unnamed: 0  6270 non-null   int64 \n",
      " 1   댓글          6270 non-null   object\n",
      "dtypes: int64(1), object(1)\n",
      "memory usage: 98.1+ KB\n"
     ]
    }
   ],
   "source": [
    "# 인사이트\n",
    "insight = pd.read_csv('/content/gdrive/My Drive/project-data/인사이트.csv')\n",
    "insight.info()"
   ]
  },
  {
   "cell_type": "code",
   "execution_count": 98,
   "metadata": {
    "colab": {
     "base_uri": "https://localhost:8080/"
    },
    "executionInfo": {
     "elapsed": 1292,
     "status": "ok",
     "timestamp": 1605502623140,
     "user": {
      "displayName": "Hojin Choi",
      "photoUrl": "https://lh3.googleusercontent.com/a-/AOh14GiKAx55m5hXi5Rbbsx5DyDwnw_HwKaG7NOWOzut=s64",
      "userId": "03305051106175374834"
     },
     "user_tz": -540
    },
    "id": "TiQLOHUnXSH1",
    "outputId": "a92a1973-eeba-45b8-f495-6e6211952b49"
   },
   "outputs": [
    {
     "name": "stdout",
     "output_type": "stream",
     "text": [
      "<class 'pandas.core.frame.DataFrame'>\n",
      "RangeIndex: 1139 entries, 0 to 1138\n",
      "Data columns (total 2 columns):\n",
      " #   Column      Non-Null Count  Dtype \n",
      "---  ------      --------------  ----- \n",
      " 0   Unnamed: 0  1139 non-null   int64 \n",
      " 1   댓글          1139 non-null   object\n",
      "dtypes: int64(1), object(1)\n",
      "memory usage: 17.9+ KB\n"
     ]
    }
   ],
   "source": [
    "# 인사이트 비즈\n",
    "insight_biz = pd.read_csv('/content/gdrive/My Drive/project-data/인사이트_biz.csv')\n",
    "insight_biz.info()"
   ]
  },
  {
   "cell_type": "code",
   "execution_count": 99,
   "metadata": {
    "colab": {
     "base_uri": "https://localhost:8080/"
    },
    "executionInfo": {
     "elapsed": 1654,
     "status": "ok",
     "timestamp": 1605502624178,
     "user": {
      "displayName": "Hojin Choi",
      "photoUrl": "https://lh3.googleusercontent.com/a-/AOh14GiKAx55m5hXi5Rbbsx5DyDwnw_HwKaG7NOWOzut=s64",
      "userId": "03305051106175374834"
     },
     "user_tz": -540
    },
    "id": "L2JJUgmtXSQL",
    "outputId": "58ab8c20-838f-4fd9-fd04-2d362fa5c542"
   },
   "outputs": [
    {
     "name": "stdout",
     "output_type": "stream",
     "text": [
      "<class 'pandas.core.frame.DataFrame'>\n",
      "RangeIndex: 852 entries, 0 to 851\n",
      "Data columns (total 2 columns):\n",
      " #   Column      Non-Null Count  Dtype \n",
      "---  ------      --------------  ----- \n",
      " 0   Unnamed: 0  852 non-null    int64 \n",
      " 1   댓글          852 non-null    object\n",
      "dtypes: int64(1), object(1)\n",
      "memory usage: 13.4+ KB\n"
     ]
    }
   ],
   "source": [
    "# 인사이트 엔터\n",
    "insight_ent = pd.read_csv('/content/gdrive/My Drive/project-data/인사이트_ent.csv')\n",
    "insight_ent.info()"
   ]
  },
  {
   "cell_type": "code",
   "execution_count": 100,
   "metadata": {
    "colab": {
     "base_uri": "https://localhost:8080/"
    },
    "executionInfo": {
     "elapsed": 1348,
     "status": "ok",
     "timestamp": 1605502627073,
     "user": {
      "displayName": "Hojin Choi",
      "photoUrl": "https://lh3.googleusercontent.com/a-/AOh14GiKAx55m5hXi5Rbbsx5DyDwnw_HwKaG7NOWOzut=s64",
      "userId": "03305051106175374834"
     },
     "user_tz": -540
    },
    "id": "6kXOwPIUXSYG",
    "outputId": "993dab6d-355d-4936-a0c6-6fc5e1375a9e"
   },
   "outputs": [
    {
     "name": "stdout",
     "output_type": "stream",
     "text": [
      "<class 'pandas.core.frame.DataFrame'>\n",
      "RangeIndex: 4197 entries, 0 to 4196\n",
      "Data columns (total 2 columns):\n",
      " #   Column      Non-Null Count  Dtype \n",
      "---  ------      --------------  ----- \n",
      " 0   Unnamed: 0  4197 non-null   int64 \n",
      " 1   댓글          4196 non-null   object\n",
      "dtypes: int64(1), object(1)\n",
      "memory usage: 65.7+ KB\n"
     ]
    }
   ],
   "source": [
    "# 장성규\n",
    "jangsung = pd.read_csv('/content/gdrive/My Drive/project-data/장성규.csv')\n",
    "jangsung.info()"
   ]
  },
  {
   "cell_type": "code",
   "execution_count": null,
   "metadata": {
    "id": "JlN6svLqnX1t"
   },
   "outputs": [],
   "source": []
  },
  {
   "cell_type": "code",
   "execution_count": 103,
   "metadata": {
    "colab": {
     "base_uri": "https://localhost:8080/"
    },
    "executionInfo": {
     "elapsed": 1340,
     "status": "ok",
     "timestamp": 1605502778600,
     "user": {
      "displayName": "Hojin Choi",
      "photoUrl": "https://lh3.googleusercontent.com/a-/AOh14GiKAx55m5hXi5Rbbsx5DyDwnw_HwKaG7NOWOzut=s64",
      "userId": "03305051106175374834"
     },
     "user_tz": -540
    },
    "id": "Ok2uXBP_ujH0",
    "outputId": "ed9fe146-2935-49e5-bcea-263b79d521ee"
   },
   "outputs": [
    {
     "name": "stdout",
     "output_type": "stream",
     "text": [
      "652\n",
      "4921\n",
      "2015\n",
      "613\n",
      "1398\n",
      "1966\n",
      "10759\n",
      "3995\n",
      "848\n",
      "1023\n",
      "57511\n",
      "1783\n",
      "973\n",
      "463\n",
      "1176\n",
      "883\n",
      "474\n",
      "117\n",
      "1324\n",
      "405\n",
      "3377\n",
      "1405\n",
      "6270\n",
      "1139\n",
      "852\n",
      "4197\n",
      "**********\n",
      "현재까지 크롤링한 데이터 개수 : 110539\n"
     ]
    }
   ],
   "source": [
    "# 댓글 데이터 개수\n",
    "print(len(koyoung))\n",
    "print(len(egg))\n",
    "print(len(parksung))\n",
    "print(len(baeda))\n",
    "print(len(swings))\n",
    "print(len(everytime))\n",
    "print(len(travel))\n",
    "print(len(humor))\n",
    "print(len(leesangmin))\n",
    "print(len(issue))\n",
    "# print(len(ilbe_girl))\n",
    "print(len(ilbe_best_recent))\n",
    "# print(len(ilbe_best))\n",
    "print(len(hamsowon))\n",
    "print(len(hongsuk))\n",
    "# print(len(dc)) \n",
    "print(len(insta_issue))\n",
    "print(len(choija))\n",
    "print(len(jtbc))\n",
    "print(len(kbs))\n",
    "print(len(mbc))\n",
    "print(len(bluehouse))\n",
    "print(len(wikiblue))\n",
    "print(len(sbs))\n",
    "print(len(ytn))\n",
    "print(len(insight))\n",
    "print(len(insight_biz))\n",
    "print(len(insight_ent))\n",
    "print(len(jangsung))\n",
    "print('*' * 10)\n",
    "print('현재까지 크롤링한 데이터 개수 :' , len(koyoung) + len(egg) + len(parksung) + len(baeda) + len(swings) + len(everytime) \n",
    "      + len(travel) + len(humor) + len(leesangmin) + len(issue) + len(ilbe_best_recent) + len(hamsowon)\n",
    "      + len(hongsuk) + len(insta_issue) + len(choija) + len(jtbc) + len(kbs) + len(mbc) + len(bluehouse) + len(wikiblue)\n",
    "      + len(sbs) + len(ytn) + len(insight) + len(insight_biz) + len(insight_ent) + len(jangsung) )\n"
   ]
  },
  {
   "cell_type": "markdown",
   "metadata": {
    "id": "517Hlk4BdcAd"
   },
   "source": [
    "**데이터 병합**"
   ]
  },
  {
   "cell_type": "code",
   "execution_count": 150,
   "metadata": {
    "colab": {
     "base_uri": "https://localhost:8080/"
    },
    "executionInfo": {
     "elapsed": 1014,
     "status": "ok",
     "timestamp": 1605504362069,
     "user": {
      "displayName": "Hojin Choi",
      "photoUrl": "https://lh3.googleusercontent.com/a-/AOh14GiKAx55m5hXi5Rbbsx5DyDwnw_HwKaG7NOWOzut=s64",
      "userId": "03305051106175374834"
     },
     "user_tz": -540
    },
    "id": "er324CFj7_mT",
    "outputId": "3520caff-7516-40cb-87b0-c38df2d8719c"
   },
   "outputs": [
    {
     "data": {
      "text/plain": [
       "0                                    와 드디어 에뛰드\n",
       "1                                    형 남친 있어요?\n",
       "2                                 내다리보다예쁘다~~~😍\n",
       "3                                     안본눈삽니다😭🙏\n",
       "4                            와 드디어 에뛰드 존버성공인가요\n",
       "                         ...                  \n",
       "4192                              우와 잘생겼어요 ^_^\n",
       "4193                                         ㅡ\n",
       "4194                         아아는 아이스아메리카노인데 ㅋㅋ\n",
       "4195    뒷모습이 힘들어보이네요 동병상련의 느낌은 왜일까요 마음은 힘들지 않아\n",
       "4196                       넉살 착하다. 장성규 애도 봐주고.\n",
       "Name: 댓글, Length: 4197, dtype: object"
      ]
     },
     "execution_count": 150,
     "metadata": {
      "tags": []
     },
     "output_type": "execute_result"
    }
   ],
   "source": [
    "koyoung_repl = koyoung['댓글']\n",
    "koyoung_repl\n",
    "egg_repl = egg['댓글']\n",
    "egg_repl\n",
    "parksung_repl = parksung['댓글']\n",
    "parksung_repl\n",
    "baeda_repl = baeda['댓글']\n",
    "baeda_repl\n",
    "swings_repl = swings['댓글']\n",
    "swings_repl\n",
    "everytime_repl = everytime['댓글']\n",
    "everytime_repl\n",
    "travel_repl = travel['댓글']\n",
    "travel_repl\n",
    "humor_repl = humor['댓글']\n",
    "humor_repl\n",
    "leesang_repl = leesangmin['댓글']\n",
    "leesang_repl\n",
    "issue_repl = issue['댓글']\n",
    "issue_repl\n",
    "ilbe_best_repl = ilbe_best_recent\n",
    "ilbe_best_repl\n",
    "hamso_repl = hamsowon['댓글']\n",
    "hamso_repl\n",
    "hongsuk_repl = hongsuk['댓글']\n",
    "hongsuk_repl\n",
    "insta_isu_repl = insta_issue['댓글']\n",
    "insta_isu_repl\n",
    "choija_repl = choija['댓글']\n",
    "choija_repl\n",
    "jtbc_repl = jtbc['댓글']\n",
    "jtbc_repl\n",
    "kbs_repl = kbs['댓글']\n",
    "kbs_repl\n",
    "mbc_repl = mbc['댓글']\n",
    "mbc_repl\n",
    "blue_repl = bluehouse['댓글']\n",
    "blue_repl\n",
    "wiki_repl = wikiblue['댓글']\n",
    "wiki_repl\n",
    "sbs_repl = sbs['댓글']\n",
    "sbs_repl\n",
    "ytn_repl = ytn['댓글']\n",
    "ytn_repl\n",
    "insight_repl = insight['댓글']\n",
    "insight_repl\n",
    "insight_biz_repl = insight_biz['댓글']\n",
    "insight_biz_repl\n",
    "insight_ent_repl = insight_ent['댓글']\n",
    "insight_ent_repl\n",
    "jangsung_repl = jangsung['댓글']\n",
    "jangsung_repl"
   ]
  },
  {
   "cell_type": "code",
   "execution_count": 159,
   "metadata": {
    "executionInfo": {
     "elapsed": 879,
     "status": "ok",
     "timestamp": 1605504605519,
     "user": {
      "displayName": "Hojin Choi",
      "photoUrl": "https://lh3.googleusercontent.com/a-/AOh14GiKAx55m5hXi5Rbbsx5DyDwnw_HwKaG7NOWOzut=s64",
      "userId": "03305051106175374834"
     },
     "user_tz": -540
    },
    "id": "p9UHd9aYb9qG"
   },
   "outputs": [],
   "source": []
  },
  {
   "cell_type": "code",
   "execution_count": 175,
   "metadata": {
    "colab": {
     "base_uri": "https://localhost:8080/"
    },
    "executionInfo": {
     "elapsed": 906,
     "status": "ok",
     "timestamp": 1605505251136,
     "user": {
      "displayName": "Hojin Choi",
      "photoUrl": "https://lh3.googleusercontent.com/a-/AOh14GiKAx55m5hXi5Rbbsx5DyDwnw_HwKaG7NOWOzut=s64",
      "userId": "03305051106175374834"
     },
     "user_tz": -540
    },
    "id": "G3UUNBLad0um",
    "outputId": "ce4fdc40-8d50-46cd-e545-547b4285c48c"
   },
   "outputs": [
    {
     "data": {
      "text/plain": [
       "0                                              신고하고왔어요...\n",
       "1                                              무슨소통을 하실려고\n",
       "2       고영욱 sns하고 조두순 출소하고 손정우 구속영장 기각되고.....이게 2020년이...\n",
       "3                               소통은 오프라인으로 지인들이랑 만나서 해...\n",
       "4                       스토리 공유하겠습니다...어디서 스멀스멀 기어나올려고...🤔\n",
       "                              ...                        \n",
       "4192                                         우와 잘생겼어요 ^_^\n",
       "4193                                                    ㅡ\n",
       "4194                                    아아는 아이스아메리카노인데 ㅋㅋ\n",
       "4195               뒷모습이 힘들어보이네요 동병상련의 느낌은 왜일까요 마음은 힘들지 않아\n",
       "4196                                  넉살 착하다. 장성규 애도 봐주고.\n",
       "Name: 댓글, Length: 110539, dtype: object"
      ]
     },
     "execution_count": 175,
     "metadata": {
      "tags": []
     },
     "output_type": "execute_result"
    }
   ],
   "source": [
    "# 댓글 시리즈 병합\n",
    "data = pd.concat([koyoung_repl, egg_repl, parksung_repl, baeda_repl, swings_repl, everytime_repl, travel_repl, humor_repl, leesang_repl, \n",
    "                issue_repl, ilbe_best_repl, hamso_repl, hongsuk_repl, insta_isu_repl, choija_repl, jtbc_repl, kbs_repl, mbc_repl, \n",
    "                blue_repl, wiki_repl, sbs_repl, ytn_repl, insight_repl, insight_biz_repl, insight_ent_repl, jangsung_repl], axis = 0)\n",
    "data"
   ]
  },
  {
   "cell_type": "code",
   "execution_count": 178,
   "metadata": {
    "colab": {
     "base_uri": "https://localhost:8080/"
    },
    "executionInfo": {
     "elapsed": 908,
     "status": "ok",
     "timestamp": 1605505273968,
     "user": {
      "displayName": "Hojin Choi",
      "photoUrl": "https://lh3.googleusercontent.com/a-/AOh14GiKAx55m5hXi5Rbbsx5DyDwnw_HwKaG7NOWOzut=s64",
      "userId": "03305051106175374834"
     },
     "user_tz": -540
    },
    "id": "b3dGEZCbfZ3M",
    "outputId": "9d8299de-e8d3-44f4-ab28-c74c7c8a9537"
   },
   "outputs": [
    {
     "name": "stdout",
     "output_type": "stream",
     "text": [
      "<class 'pandas.core.frame.DataFrame'>\n",
      "RangeIndex: 107177 entries, 0 to 107176\n",
      "Data columns (total 1 columns):\n",
      " #   Column  Non-Null Count   Dtype \n",
      "---  ------  --------------   ----- \n",
      " 0   0       107176 non-null  object\n",
      "dtypes: object(1)\n",
      "memory usage: 837.4+ KB\n"
     ]
    }
   ],
   "source": [
    "# 데이터프레임 생성 및 unique\n",
    "unique_data = pd.unique(data)\n",
    "repl_data = pd.DataFrame(unique_data)\n",
    "repl_data.info()"
   ]
  },
  {
   "cell_type": "code",
   "execution_count": 181,
   "metadata": {
    "executionInfo": {
     "elapsed": 1002,
     "status": "ok",
     "timestamp": 1605508373259,
     "user": {
      "displayName": "Hojin Choi",
      "photoUrl": "https://lh3.googleusercontent.com/a-/AOh14GiKAx55m5hXi5Rbbsx5DyDwnw_HwKaG7NOWOzut=s64",
      "userId": "03305051106175374834"
     },
     "user_tz": -540
    },
    "id": "4n80eCjMjH8W"
   },
   "outputs": [],
   "source": [
    "repl_data.to_csv('/content/gdrive/My Drive/project-data/repl_data.csv')"
   ]
  }
 ],
 "metadata": {
  "colab": {
   "authorship_tag": "ABX9TyNjw+2QLRj6eQ0WUvypwSc5",
   "collapsed_sections": [],
   "name": "comment_crawling_data.ipynb",
   "provenance": []
  },
  "kernelspec": {
   "display_name": "Python 3",
   "language": "python",
   "name": "python3"
  },
  "language_info": {
   "codemirror_mode": {
    "name": "ipython",
    "version": 3
   },
   "file_extension": ".py",
   "mimetype": "text/x-python",
   "name": "python",
   "nbconvert_exporter": "python",
   "pygments_lexer": "ipython3",
   "version": "3.8.3"
  }
 },
 "nbformat": 4,
 "nbformat_minor": 1
}
