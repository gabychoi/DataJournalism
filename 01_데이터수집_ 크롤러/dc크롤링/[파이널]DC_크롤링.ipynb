{
 "cells": [
  {
   "cell_type": "code",
   "execution_count": 54,
   "metadata": {},
   "outputs": [],
   "source": [
    "# 한글 폰트 문제 해결\n",
    "import platform\n",
    "\n",
    "from matplotlib import font_manager, rc\n",
    "# plt.rcParams['axes.unicode_minus'] = False\n",
    "\n",
    "if platform.system() == 'Darwin':\n",
    "    rc('font', family='AppleGothic')\n",
    "elif platform.system() == 'Windows':\n",
    "    path = \"c:/Windows/Fonts/malgun.ttf\"\n",
    "    font_name = font_manager.FontProperties(fname=path).get_name()\n",
    "    rc('font', family=font_name)\n",
    "else:\n",
    "    print('Unknown system... sorry~~~~') "
   ]
  },
  {
   "cell_type": "code",
   "execution_count": 55,
   "metadata": {},
   "outputs": [
    {
     "data": {
      "text/plain": [
       "<selenium.webdriver.chrome.webdriver.WebDriver (session=\"5678c6ef31be6822ad976618204aa09c\")>"
      ]
     },
     "execution_count": 55,
     "metadata": {},
     "output_type": "execute_result"
    }
   ],
   "source": [
    "# from selenium import webdriver\n",
    "# import time\n",
    "# path = './driver/chromedriver.exe'\n",
    "# driver = webdriver.Chrome(path)\n",
    "# driver"
   ]
  },
  {
   "cell_type": "code",
   "execution_count": 56,
   "metadata": {},
   "outputs": [],
   "source": [
    "# driver.get('https://gall.dcinside.com/board/lists/?id=entertainment')"
   ]
  },
  {
   "cell_type": "code",
   "execution_count": 57,
   "metadata": {},
   "outputs": [
    {
     "name": "stdout",
     "output_type": "stream",
     "text": [
      "<selenium.webdriver.remote.webelement.WebElement (session=\"5678c6ef31be6822ad976618204aa09c\", element=\"02c32bcb-7feb-40c6-9fb7-f7bf0a8e66e9\")>\n"
     ]
    }
   ],
   "source": [
    "# ul_tag = driver.find_element_by_css_selector('.gall_list')\n",
    "# print(ul_tag)"
   ]
  },
  {
   "cell_type": "code",
   "execution_count": 58,
   "metadata": {
    "collapsed": true
   },
   "outputs": [
    {
     "name": "stdout",
     "output_type": "stream",
     "text": [
      "[<selenium.webdriver.remote.webelement.WebElement (session=\"5678c6ef31be6822ad976618204aa09c\", element=\"eea570b1-fc5f-4bbd-b535-7cb30f7d4c01\")>, <selenium.webdriver.remote.webelement.WebElement (session=\"5678c6ef31be6822ad976618204aa09c\", element=\"9debbbf9-3e55-4118-b81d-ac1277b91067\")>, <selenium.webdriver.remote.webelement.WebElement (session=\"5678c6ef31be6822ad976618204aa09c\", element=\"a2fdd097-61af-4975-90a2-ed04ab6f77ed\")>, <selenium.webdriver.remote.webelement.WebElement (session=\"5678c6ef31be6822ad976618204aa09c\", element=\"abcf78a2-e13d-470b-9faf-136fdda09ee4\")>, <selenium.webdriver.remote.webelement.WebElement (session=\"5678c6ef31be6822ad976618204aa09c\", element=\"ebd6280a-fd04-4efb-a1a5-35c5d175c98b\")>, <selenium.webdriver.remote.webelement.WebElement (session=\"5678c6ef31be6822ad976618204aa09c\", element=\"2b5455eb-6a38-4908-b2b7-31c6da1d5f77\")>, <selenium.webdriver.remote.webelement.WebElement (session=\"5678c6ef31be6822ad976618204aa09c\", element=\"72275102-72e1-4949-ad70-8255183b9eca\")>, <selenium.webdriver.remote.webelement.WebElement (session=\"5678c6ef31be6822ad976618204aa09c\", element=\"9a67c378-0b77-4c28-956a-33e5b662df15\")>, <selenium.webdriver.remote.webelement.WebElement (session=\"5678c6ef31be6822ad976618204aa09c\", element=\"81a7e346-eedc-4be2-b90e-70970dd8ea89\")>, <selenium.webdriver.remote.webelement.WebElement (session=\"5678c6ef31be6822ad976618204aa09c\", element=\"ccd89d9d-01e4-4589-94ae-5411edac0d34\")>, <selenium.webdriver.remote.webelement.WebElement (session=\"5678c6ef31be6822ad976618204aa09c\", element=\"081586e9-e6e3-49d2-8e6c-eb6d80c8fd5f\")>, <selenium.webdriver.remote.webelement.WebElement (session=\"5678c6ef31be6822ad976618204aa09c\", element=\"4197a7b3-7dcd-428d-89eb-0bf824fc63ff\")>, <selenium.webdriver.remote.webelement.WebElement (session=\"5678c6ef31be6822ad976618204aa09c\", element=\"5b5841e6-e9ce-498c-b905-918c5780e685\")>, <selenium.webdriver.remote.webelement.WebElement (session=\"5678c6ef31be6822ad976618204aa09c\", element=\"4c987243-0410-4131-bd79-31d07084a601\")>, <selenium.webdriver.remote.webelement.WebElement (session=\"5678c6ef31be6822ad976618204aa09c\", element=\"c384a2be-bc87-489a-ad87-02609f4c6153\")>, <selenium.webdriver.remote.webelement.WebElement (session=\"5678c6ef31be6822ad976618204aa09c\", element=\"a8217a12-c7df-4d6f-bc60-61d2b3571fe8\")>, <selenium.webdriver.remote.webelement.WebElement (session=\"5678c6ef31be6822ad976618204aa09c\", element=\"13623078-6f13-43fb-bd75-7730f6ed8f40\")>, <selenium.webdriver.remote.webelement.WebElement (session=\"5678c6ef31be6822ad976618204aa09c\", element=\"56494b4a-dc19-43fe-bc96-63bf0c24f8f7\")>, <selenium.webdriver.remote.webelement.WebElement (session=\"5678c6ef31be6822ad976618204aa09c\", element=\"35a58668-5c2d-45f3-b582-c61905471d6a\")>, <selenium.webdriver.remote.webelement.WebElement (session=\"5678c6ef31be6822ad976618204aa09c\", element=\"524e2dd8-2f3a-47da-b36f-ba449fca6b75\")>, <selenium.webdriver.remote.webelement.WebElement (session=\"5678c6ef31be6822ad976618204aa09c\", element=\"eccd6548-0671-4368-adc7-c2c98c25f694\")>, <selenium.webdriver.remote.webelement.WebElement (session=\"5678c6ef31be6822ad976618204aa09c\", element=\"2d1d89e8-6a79-4d66-b801-ec1e27f03572\")>, <selenium.webdriver.remote.webelement.WebElement (session=\"5678c6ef31be6822ad976618204aa09c\", element=\"5beeb4d7-b21a-4261-91bb-fe73d540ea28\")>, <selenium.webdriver.remote.webelement.WebElement (session=\"5678c6ef31be6822ad976618204aa09c\", element=\"bd6436b9-0901-4c37-a645-3245aebb9125\")>, <selenium.webdriver.remote.webelement.WebElement (session=\"5678c6ef31be6822ad976618204aa09c\", element=\"eeed90ad-038f-43f0-943f-530203ef0ebd\")>, <selenium.webdriver.remote.webelement.WebElement (session=\"5678c6ef31be6822ad976618204aa09c\", element=\"3a6e5f30-bfd9-4f60-a273-2fae285bf085\")>, <selenium.webdriver.remote.webelement.WebElement (session=\"5678c6ef31be6822ad976618204aa09c\", element=\"2e66cec6-a320-48a9-9f34-03ed9a4cfb6b\")>, <selenium.webdriver.remote.webelement.WebElement (session=\"5678c6ef31be6822ad976618204aa09c\", element=\"ff3a2db0-a11e-407d-8051-780c9504d670\")>, <selenium.webdriver.remote.webelement.WebElement (session=\"5678c6ef31be6822ad976618204aa09c\", element=\"22e8fa58-eb1e-42f8-bff9-21a57feb7dba\")>, <selenium.webdriver.remote.webelement.WebElement (session=\"5678c6ef31be6822ad976618204aa09c\", element=\"4035a773-7a5d-4425-9605-779c802e6dd3\")>, <selenium.webdriver.remote.webelement.WebElement (session=\"5678c6ef31be6822ad976618204aa09c\", element=\"fa6c4ea4-780e-4dbb-a9eb-cbc4f9bbf828\")>, <selenium.webdriver.remote.webelement.WebElement (session=\"5678c6ef31be6822ad976618204aa09c\", element=\"215ed27f-c281-4b6e-8e5d-61c7fe937871\")>, <selenium.webdriver.remote.webelement.WebElement (session=\"5678c6ef31be6822ad976618204aa09c\", element=\"423f3cfd-aa1f-494a-9731-3f5813a59681\")>, <selenium.webdriver.remote.webelement.WebElement (session=\"5678c6ef31be6822ad976618204aa09c\", element=\"1b97777e-22f5-4af5-9956-212ebe89dd31\")>, <selenium.webdriver.remote.webelement.WebElement (session=\"5678c6ef31be6822ad976618204aa09c\", element=\"34448eea-835f-48b2-a560-810a9427cd54\")>, <selenium.webdriver.remote.webelement.WebElement (session=\"5678c6ef31be6822ad976618204aa09c\", element=\"5c1cc549-e7b2-41b9-a50f-d372fdbe4f8f\")>, <selenium.webdriver.remote.webelement.WebElement (session=\"5678c6ef31be6822ad976618204aa09c\", element=\"6fc8376b-1862-45e8-aba0-56abea8acc6d\")>, <selenium.webdriver.remote.webelement.WebElement (session=\"5678c6ef31be6822ad976618204aa09c\", element=\"d29a7390-2819-40c6-84d6-bbc048886875\")>, <selenium.webdriver.remote.webelement.WebElement (session=\"5678c6ef31be6822ad976618204aa09c\", element=\"7d0d1a21-e416-4ff0-a94b-36a921a13da3\")>, <selenium.webdriver.remote.webelement.WebElement (session=\"5678c6ef31be6822ad976618204aa09c\", element=\"bdf68635-7bbe-43c7-85de-47c6a662eb0d\")>, <selenium.webdriver.remote.webelement.WebElement (session=\"5678c6ef31be6822ad976618204aa09c\", element=\"24f30b8c-93ce-46a3-b423-6a3f295ede47\")>, <selenium.webdriver.remote.webelement.WebElement (session=\"5678c6ef31be6822ad976618204aa09c\", element=\"55c9ed23-57f5-498c-b939-8559a29e700b\")>, <selenium.webdriver.remote.webelement.WebElement (session=\"5678c6ef31be6822ad976618204aa09c\", element=\"d3606a2f-3272-440f-9760-b9e81e674919\")>, <selenium.webdriver.remote.webelement.WebElement (session=\"5678c6ef31be6822ad976618204aa09c\", element=\"a000e44b-7fdb-4438-bfb6-6b3f2ce5f63f\")>, <selenium.webdriver.remote.webelement.WebElement (session=\"5678c6ef31be6822ad976618204aa09c\", element=\"1d519c7f-8472-4e82-858d-0956c1e291c9\")>, <selenium.webdriver.remote.webelement.WebElement (session=\"5678c6ef31be6822ad976618204aa09c\", element=\"876dbe30-90c9-4bab-8944-19ef52a55f04\")>, <selenium.webdriver.remote.webelement.WebElement (session=\"5678c6ef31be6822ad976618204aa09c\", element=\"7415d5c2-49f4-4f23-b9af-747480281f8b\")>, <selenium.webdriver.remote.webelement.WebElement (session=\"5678c6ef31be6822ad976618204aa09c\", element=\"095029e4-2c0a-413a-8da8-ced684d86ddb\")>, <selenium.webdriver.remote.webelement.WebElement (session=\"5678c6ef31be6822ad976618204aa09c\", element=\"eac4fb83-4e48-4ddf-8214-1ecaaf7bdb71\")>, <selenium.webdriver.remote.webelement.WebElement (session=\"5678c6ef31be6822ad976618204aa09c\", element=\"40c3a2f8-31b2-4a82-a83e-86ab0447f7f4\")>, <selenium.webdriver.remote.webelement.WebElement (session=\"5678c6ef31be6822ad976618204aa09c\", element=\"54b16136-5eb7-41d8-a400-3cea3c55aa80\")>]\n"
     ]
    }
   ],
   "source": [
    "# li_tag_list = ul_tag.find_elements_by_css_selector('.gall_tit')\n",
    "# print(li_tag_list)"
   ]
  },
  {
   "cell_type": "code",
   "execution_count": 59,
   "metadata": {
    "collapsed": true
   },
   "outputs": [
    {
     "name": "stdout",
     "output_type": "stream",
     "text": [
      "['막장드라마 최적화 배우는?']\n",
      "['사진 등록에 주의해주시기 바랍니다. [131]']\n",
      "['김부선 대선출마하면']\n",
      "['이제 미향이가 숨만 쉬고 있어도 웃기다 [2]']\n",
      "['미향이 서치하는데 회사 일 좆같이 못하나봐 [3]']\n",
      "['미향이 약듀 예선봤던거 이제떠오름 [1]']\n",
      "['브브잦 왜 이렇게 무관심인지 모르겠노 [6]']\n",
      "['미향이 ai같은맛에 빨고잇어 [6]']\n",
      "['고미향 존나웃겨 [6]']\n",
      "['미향이 왜 필터링이 미향됐노 [1]']\n",
      "['꽃미남 배우, 알콜중독 음주운전 체포 충격!']\n",
      "['미향이 븨창에서도 말투 틀내나긔? [2]']\n",
      "['쉰쉰구 메보띠니 필터링 ㄹㅇ 없노?']\n",
      "['찜토커 이거 커엽노 [1]']\n",
      "['미향옵 등산카페 가입되어있을거같긔 [11]']\n",
      "['뿅!!']\n",
      "['귀여우시다']\n",
      "['안녕히 주무시긔']\n",
      "['싸라는 배슬병에 걸린 걸까 [2]']\n",
      "['둘 중에 뭐가 진짜 와꾸야 [1]']\n",
      "['모잼랜드 잦돌 얘네 둘은 ㅅㅌㅊ같긔 [6]']\n",
      "['뫼혜인 닉값했긔']\n",
      "['짭꼬 시발 [1]']\n",
      "['이분 힙합가수 닮으셨네 [1]']\n",
      "['지암이 렌즈 아니고 본인 눈동자야?']\n",
      "['요즘 조큰이 너무 잘생겼어 [1]']\n",
      "['이분 뭐야? [2]']\n",
      "['섹화옵 망붕 존나 붙을것 같아 [2]']\n",
      "['모잼랜드 신인잦돌 이름 어케 읽는거노? [6]']\n",
      "['어렵고도 신기한 세계관을 가진 아이돌 모음']\n",
      "['요즘 신인들 꼬라지 보면 겨니 잦동충 데뷔가능할것같긔']\n",
      "['코붐이 라면 ㅈㄴ 빨리먹노']\n",
      "['정유미 영평상 시 사랑에 푹빠짐 [1]']\n",
      "['뜰이즈 이게 무슨일이노 [6]']\n",
      "['모잼랜드 소속사 새 잦돌 [9]']\n",
      "['뉴페돌 [2]']\n",
      "['잦돌은 서열질 안하고 창짓만 ㅍㅅㅌㅊ로 해줘도']\n",
      "['근데 멸긔 와꾸자체가 인상 좋지않노? [2]']\n",
      "['쉰쉰구는 좀 웃기노']\n",
      "['난 짭꾸니 보줌 닮았다고 생각했는데']\n",
      "['간민이 안경 븅찬이 급이노 [2]']\n",
      "['멸망비는 볼수록 멸긔 성격이 ㅅㅌㅊ']\n",
      "['멸긔 볼때마다 카톡개닮은거같아 [2]']\n",
      "['오랜만에 노무단 호모문학갤 갔는데 [4]']\n",
      "['쉰쉰구 빨고싶은데 [5]']\n",
      "['굴차 애미들은 머열이 싫어함? [2]']\n",
      "['웁스ㅋ [17]']\n",
      "['소정환 말랐던데 복근 가로줄 보이는 사진 올려 놓고 11자라고 우기더라']\n",
      "['린어왕자']\n",
      "['새끼가 살 쪄서 스트레스 받는거 개오랜만이긔 [4]']\n",
      "['라비던스 오늘 출근길 조아조아']\n"
     ]
    }
   ],
   "source": [
    "# for li in li_tag_list :\n",
    "#     print(li.text.split('\\n'))"
   ]
  },
  {
   "cell_type": "code",
   "execution_count": 67,
   "metadata": {},
   "outputs": [
    {
     "data": {
      "text/plain": [
       "<selenium.webdriver.chrome.webdriver.WebDriver (session=\"6c567ab189530d572197b728b2d1f1c0\")>"
      ]
     },
     "execution_count": 67,
     "metadata": {},
     "output_type": "execute_result"
    }
   ],
   "source": [
    "from selenium import webdriver\n",
    "import time\n",
    "path = './driver/chromedriver.exe'\n",
    "driver = webdriver.Chrome(path)\n",
    "driver"
   ]
  },
  {
   "cell_type": "code",
   "execution_count": 68,
   "metadata": {},
   "outputs": [],
   "source": [
    "dc_word = []\n",
    "for page in range(1, 500) :\n",
    "    url = 'https://gall.dcinside.com/board/lists/?id=entertainment&page='+str(page)\n",
    "    driver.get(url)\n",
    "    ul_tag = driver.find_element_by_css_selector('.gall_list')\n",
    "    li_tag_list = ul_tag.find_elements_by_css_selector('.gall_tit')\n",
    "    for li in li_tag_list :\n",
    "        # print(li.text.split('\\n'))\n",
    "        dc_word.append(li.text.split('\\n'))"
   ]
  },
  {
   "cell_type": "code",
   "execution_count": 69,
   "metadata": {},
   "outputs": [],
   "source": [
    "import pandas as pd\n",
    "dc = pd.DataFrame({'제목' : dc_word})\n",
    "dc.to_csv('dc_word.csv', encoding='utf-8-sig')"
   ]
  },
  {
   "cell_type": "code",
   "execution_count": 70,
   "metadata": {},
   "outputs": [],
   "source": [
    "driver.close()"
   ]
  },
  {
   "cell_type": "code",
   "execution_count": null,
   "metadata": {},
   "outputs": [],
   "source": []
  }
 ],
 "metadata": {
  "kernelspec": {
   "display_name": "Python 3",
   "language": "python",
   "name": "python3"
  },
  "language_info": {
   "codemirror_mode": {
    "name": "ipython",
    "version": 3
   },
   "file_extension": ".py",
   "mimetype": "text/x-python",
   "name": "python",
   "nbconvert_exporter": "python",
   "pygments_lexer": "ipython3",
   "version": "3.7.6"
  }
 },
 "nbformat": 4,
 "nbformat_minor": 4
}
