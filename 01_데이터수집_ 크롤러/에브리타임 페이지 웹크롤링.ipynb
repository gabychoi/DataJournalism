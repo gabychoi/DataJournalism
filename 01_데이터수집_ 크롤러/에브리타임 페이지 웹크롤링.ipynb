{
 "cells": [
  {
   "cell_type": "code",
   "execution_count": 47,
   "metadata": {},
   "outputs": [
    {
     "data": {
      "text/plain": [
       "<selenium.webdriver.chrome.webdriver.WebDriver (session=\"13f4f107bfca459d04c91d44da3d2640\")>"
      ]
     },
     "execution_count": 47,
     "metadata": {},
     "output_type": "execute_result"
    }
   ],
   "source": [
    "from selenium import webdriver\n",
    "import time\n",
    "\n",
    "path='C:/Users/A/TIL/07_웹크롤링/driver/chromedriver.exe'\n",
    "driver = webdriver.Chrome(path)\n",
    "driver"
   ]
  },
  {
   "cell_type": "code",
   "execution_count": 48,
   "metadata": {},
   "outputs": [],
   "source": [
    "url = 'https://everytime.kr/'\n",
    "\n",
    "driver.get(url)"
   ]
  },
  {
   "cell_type": "code",
   "execution_count": 49,
   "metadata": {},
   "outputs": [],
   "source": [
    "# 로그인 버튼 누르기\n",
    "login = driver.find_element_by_css_selector('.login').find_elements_by_tag_name('a')\n",
    "login[1].click()"
   ]
  },
  {
   "cell_type": "code",
   "execution_count": 67,
   "metadata": {},
   "outputs": [],
   "source": [
    "# 아이디 입력\n",
    "id_input = driver.find_element_by_tag_name('div > form > p > input')\n",
    "id_input.send_keys('아이디입력')"
   ]
  },
  {
   "cell_type": "code",
   "execution_count": 73,
   "metadata": {},
   "outputs": [],
   "source": [
    "# 비밀번호 입력\n",
    "inputs = driver.find_element_by_tag_name('div > form').find_elements_by_tag_name('input')\n",
    "# inputs\n",
    "password_input = inputs[1]\n",
    "password_input.send_keys('비밀번호입력')"
   ]
  },
  {
   "cell_type": "code",
   "execution_count": 74,
   "metadata": {},
   "outputs": [],
   "source": [
    "# 로그인 실행\n",
    "inputs[4].submit()"
   ]
  },
  {
   "cell_type": "code",
   "execution_count": 87,
   "metadata": {},
   "outputs": [],
   "source": [
    "# 게시판 목록\n",
    "boards = driver.find_element_by_css_selector('.group').find_elements_by_tag_name('ul > li')\n",
    "\n",
    "# '국제캠 자유게시판' 접속\n",
    "int_campus_board = boards[0]\n",
    "int_campus_board.find_elements_by_tag_name('a')[0].click()"
   ]
  },
  {
   "cell_type": "code",
   "execution_count": 128,
   "metadata": {},
   "outputs": [],
   "source": [
    "# 게시글 접속\n",
    "post = driver.find_element_by_tag_name('body > #container > .articles').find_elements_by_css_selector('article')\n",
    "\n",
    "# 5번째 글 접속\n",
    "post_5 = post[3].find_elements_by_tag_name('a')[0]\n",
    "post_5.click()"
   ]
  },
  {
   "cell_type": "code",
   "execution_count": 146,
   "metadata": {},
   "outputs": [
    {
     "name": "stdout",
     "output_type": "stream",
     "text": [
      "나눔해조....\n",
      "꼼빌아 마스크줄 말구 다른거는 뭐만드러\n",
      "이쁘다...\n"
     ]
    }
   ],
   "source": [
    "#  댓글 가져오기\n",
    "comments = driver.find_elements_by_css_selector('.comments > .parent > .large')\n",
    "\n",
    "for comment in comments:\n",
    "    print(comment.text)"
   ]
  },
  {
   "cell_type": "code",
   "execution_count": 147,
   "metadata": {},
   "outputs": [
    {
     "name": "stdout",
     "output_type": "stream",
     "text": [
      "나중에 여유 생기면..\n",
      "그냥.. 마스크줄에 꽂혔엉 저걸루 팔찌 만들생각은 하구있어\n",
      "겨울되니까 목에 저거 너무 차가워,, ㅠㅡㅠ\n",
      "허겅 그렇구나 실 땋아서 공예하는것도 찾아봐야겠당\n",
      "안차가운거면 제가 삽니다,,\n"
     ]
    }
   ],
   "source": [
    "# 대댓글 가져오기\n",
    "re_comments = driver.find_elements_by_css_selector('.comments > .child > .large')\n",
    "\n",
    "for comment in re_comments:\n",
    "    print(comment.text)"
   ]
  }
 ],
 "metadata": {
  "kernelspec": {
   "display_name": "Python 3",
   "language": "python",
   "name": "python3"
  },
  "language_info": {
   "codemirror_mode": {
    "name": "ipython",
    "version": 3
   },
   "file_extension": ".py",
   "mimetype": "text/x-python",
   "name": "python",
   "nbconvert_exporter": "python",
   "pygments_lexer": "ipython3",
   "version": "3.7.6"
  }
 },
 "nbformat": 4,
 "nbformat_minor": 4
}
