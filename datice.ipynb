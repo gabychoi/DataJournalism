{
  "nbformat": 4,
  "nbformat_minor": 0,
  "metadata": {
    "colab": {
      "name": "datice.ipynb",
      "provenance": [],
      "collapsed_sections": [],
      "authorship_tag": "ABX9TyPj99mYhM3J60YRSw7enVpE",
      "include_colab_link": true
    },
    "kernelspec": {
      "name": "python3",
      "display_name": "Python 3"
    }
  },
  "cells": [
    {
      "cell_type": "markdown",
      "metadata": {
        "id": "view-in-github",
        "colab_type": "text"
      },
      "source": [
        "<a href=\"https://colab.research.google.com/github/gabychoi/DataJournalism/blob/main/datice.ipynb\" target=\"_parent\"><img src=\"https://colab.research.google.com/assets/colab-badge.svg\" alt=\"Open In Colab\"/></a>"
      ]
    },
    {
      "cell_type": "code",
      "metadata": {
        "id": "ony1NsqCTlDu"
      },
      "source": [
        "import warnings\n",
        "\n",
        "warnings.filterwarnings('ignore')"
      ],
      "execution_count": 1,
      "outputs": []
    },
    {
      "cell_type": "code",
      "metadata": {
        "colab": {
          "base_uri": "https://localhost:8080/"
        },
        "id": "zp_4EGMxUP71",
        "outputId": "5ae496b7-fc8d-416f-9751-c05727447167"
      },
      "source": [
        "# 한글 폰트 문제 해결\n",
        "!sudo apt-get install -y fonts-nanum\n",
        "!sudo fc-cache -fv\n",
        "!rm ~/.cache/matplotlib -rf"
      ],
      "execution_count": 8,
      "outputs": [
        {
          "output_type": "stream",
          "text": [
            "Reading package lists... Done\n",
            "Building dependency tree       \n",
            "Reading state information... Done\n",
            "fonts-nanum is already the newest version (20170925-1).\n",
            "0 upgraded, 0 newly installed, 0 to remove and 31 not upgraded.\n",
            "/usr/share/fonts: caching, new cache contents: 0 fonts, 1 dirs\n",
            "/usr/share/fonts/truetype: caching, new cache contents: 0 fonts, 3 dirs\n",
            "/usr/share/fonts/truetype/humor-sans: caching, new cache contents: 1 fonts, 0 dirs\n",
            "/usr/share/fonts/truetype/liberation: caching, new cache contents: 16 fonts, 0 dirs\n",
            "/usr/share/fonts/truetype/nanum: caching, new cache contents: 10 fonts, 0 dirs\n",
            "/usr/local/share/fonts: caching, new cache contents: 0 fonts, 0 dirs\n",
            "/root/.local/share/fonts: skipping, no such directory\n",
            "/root/.fonts: skipping, no such directory\n",
            "/var/cache/fontconfig: cleaning cache directory\n",
            "/root/.cache/fontconfig: not cleaning non-existent cache directory\n",
            "/root/.fontconfig: not cleaning non-existent cache directory\n",
            "fc-cache: succeeded\n"
          ],
          "name": "stdout"
        }
      ]
    },
    {
      "cell_type": "code",
      "metadata": {
        "colab": {
          "base_uri": "https://localhost:8080/"
        },
        "id": "tuKf7ZDDT-ZB",
        "outputId": "4407364b-83d8-44f2-d327-3901a9da0e9f"
      },
      "source": [
        "import pandas as pd\n",
        "import numpy as np \n",
        "from google.colab import drive\n",
        "drive.mount('/content/gdrive')"
      ],
      "execution_count": 3,
      "outputs": [
        {
          "output_type": "stream",
          "text": [
            "Drive already mounted at /content/gdrive; to attempt to forcibly remount, call drive.mount(\"/content/gdrive\", force_remount=True).\n"
          ],
          "name": "stdout"
        }
      ]
    },
    {
      "cell_type": "code",
      "metadata": {
        "id": "VTKn4HMYU9Ao",
        "colab": {
          "base_uri": "https://localhost:8080/",
          "height": 235
        },
        "outputId": "a850559a-3779-4ea6-8400-f02ae886bab1"
      },
      "source": [
        "# 원 데이터 불러오기\n",
        "raw_data = pd.read_csv('/content/gdrive/My Drive/data/data_compensation.csv')\n",
        "raw_data"
      ],
      "execution_count": 4,
      "outputs": [
        {
          "output_type": "execute_result",
          "data": {
            "text/html": [
              "<div>\n",
              "<style scoped>\n",
              "    .dataframe tbody tr th:only-of-type {\n",
              "        vertical-align: middle;\n",
              "    }\n",
              "\n",
              "    .dataframe tbody tr th {\n",
              "        vertical-align: top;\n",
              "    }\n",
              "\n",
              "    .dataframe thead th {\n",
              "        text-align: right;\n",
              "    }\n",
              "</style>\n",
              "<table border=\"1\" class=\"dataframe\">\n",
              "  <thead>\n",
              "    <tr style=\"text-align: right;\">\n",
              "      <th></th>\n",
              "      <th>구  분</th>\n",
              "      <th>연도</th>\n",
              "      <th>2010</th>\n",
              "      <th>2011</th>\n",
              "      <th>2012</th>\n",
              "      <th>2013</th>\n",
              "      <th>2014</th>\n",
              "      <th>2015</th>\n",
              "      <th>2016</th>\n",
              "      <th>2017</th>\n",
              "      <th>2018</th>\n",
              "      <th>2019</th>\n",
              "      <th>2020</th>\n",
              "    </tr>\n",
              "  </thead>\n",
              "  <tbody>\n",
              "    <tr>\n",
              "      <th>0</th>\n",
              "      <td>NaN</td>\n",
              "      <td>전체 건수</td>\n",
              "      <td>6,672</td>\n",
              "      <td>15,116</td>\n",
              "      <td>39,519</td>\n",
              "      <td>33,760</td>\n",
              "      <td>34,366</td>\n",
              "      <td>14,546</td>\n",
              "      <td>8,713</td>\n",
              "      <td>7,374</td>\n",
              "      <td>5,073</td>\n",
              "      <td>4,257</td>\n",
              "      <td>4,380</td>\n",
              "    </tr>\n",
              "    <tr>\n",
              "      <th>1</th>\n",
              "      <td>NaN</td>\n",
              "      <td>전체 보상금액</td>\n",
              "      <td>18,361</td>\n",
              "      <td>22,566</td>\n",
              "      <td>53,179</td>\n",
              "      <td>57,672</td>\n",
              "      <td>88,164</td>\n",
              "      <td>52,975</td>\n",
              "      <td>31,769</td>\n",
              "      <td>36,038</td>\n",
              "      <td>36,736</td>\n",
              "      <td>40,138</td>\n",
              "      <td>41,907</td>\n",
              "    </tr>\n",
              "    <tr>\n",
              "      <th>2</th>\n",
              "      <td>NaN</td>\n",
              "      <td>형사보상 건수</td>\n",
              "      <td>6,649</td>\n",
              "      <td>15,097</td>\n",
              "      <td>39,501</td>\n",
              "      <td>33,745</td>\n",
              "      <td>34,352</td>\n",
              "      <td>14,532</td>\n",
              "      <td>8,690</td>\n",
              "      <td>7,355</td>\n",
              "      <td>5,062</td>\n",
              "      <td>4,232</td>\n",
              "      <td>4,366</td>\n",
              "    </tr>\n",
              "    <tr>\n",
              "      <th>3</th>\n",
              "      <td>NaN</td>\n",
              "      <td>형사보상 금액</td>\n",
              "      <td>18,317</td>\n",
              "      <td>22,522</td>\n",
              "      <td>53,148</td>\n",
              "      <td>57,641</td>\n",
              "      <td>88,135</td>\n",
              "      <td>52,937</td>\n",
              "      <td>31,681</td>\n",
              "      <td>35,934</td>\n",
              "      <td>36,704</td>\n",
              "      <td>39,812</td>\n",
              "      <td>41,651</td>\n",
              "    </tr>\n",
              "    <tr>\n",
              "      <th>4</th>\n",
              "      <td>NaN</td>\n",
              "      <td>피의자보상 건수</td>\n",
              "      <td>23</td>\n",
              "      <td>19</td>\n",
              "      <td>18</td>\n",
              "      <td>15</td>\n",
              "      <td>14</td>\n",
              "      <td>14</td>\n",
              "      <td>23</td>\n",
              "      <td>19</td>\n",
              "      <td>11</td>\n",
              "      <td>25</td>\n",
              "      <td>14</td>\n",
              "    </tr>\n",
              "    <tr>\n",
              "      <th>5</th>\n",
              "      <td>NaN</td>\n",
              "      <td>피의자보상 금액</td>\n",
              "      <td>44</td>\n",
              "      <td>44</td>\n",
              "      <td>31</td>\n",
              "      <td>31</td>\n",
              "      <td>29</td>\n",
              "      <td>38</td>\n",
              "      <td>88</td>\n",
              "      <td>104</td>\n",
              "      <td>32</td>\n",
              "      <td>326</td>\n",
              "      <td>256</td>\n",
              "    </tr>\n",
              "  </tbody>\n",
              "</table>\n",
              "</div>"
            ],
            "text/plain": [
              "   구  분        연도    2010    2011  ...    2017    2018    2019    2020\n",
              "0   NaN     전체 건수   6,672  15,116  ...   7,374   5,073   4,257   4,380\n",
              "1   NaN   전체 보상금액  18,361  22,566  ...  36,038  36,736  40,138  41,907\n",
              "2   NaN   형사보상 건수   6,649  15,097  ...   7,355   5,062   4,232   4,366\n",
              "3   NaN   형사보상 금액  18,317  22,522  ...  35,934  36,704  39,812  41,651\n",
              "4   NaN  피의자보상 건수      23      19  ...      19      11      25      14\n",
              "5   NaN  피의자보상 금액      44      44  ...     104      32     326     256\n",
              "\n",
              "[6 rows x 13 columns]"
            ]
          },
          "metadata": {
            "tags": []
          },
          "execution_count": 4
        }
      ]
    },
    {
      "cell_type": "code",
      "metadata": {
        "colab": {
          "base_uri": "https://localhost:8080/",
          "height": 235
        },
        "id": "904eDTba7hvl",
        "outputId": "9175a264-fc9c-484e-8932-6d1ffdb37f99"
      },
      "source": [
        "# 데이터 카피\n",
        "copy_data = raw_data\n",
        "copy_data"
      ],
      "execution_count": 5,
      "outputs": [
        {
          "output_type": "execute_result",
          "data": {
            "text/html": [
              "<div>\n",
              "<style scoped>\n",
              "    .dataframe tbody tr th:only-of-type {\n",
              "        vertical-align: middle;\n",
              "    }\n",
              "\n",
              "    .dataframe tbody tr th {\n",
              "        vertical-align: top;\n",
              "    }\n",
              "\n",
              "    .dataframe thead th {\n",
              "        text-align: right;\n",
              "    }\n",
              "</style>\n",
              "<table border=\"1\" class=\"dataframe\">\n",
              "  <thead>\n",
              "    <tr style=\"text-align: right;\">\n",
              "      <th></th>\n",
              "      <th>구  분</th>\n",
              "      <th>연도</th>\n",
              "      <th>2010</th>\n",
              "      <th>2011</th>\n",
              "      <th>2012</th>\n",
              "      <th>2013</th>\n",
              "      <th>2014</th>\n",
              "      <th>2015</th>\n",
              "      <th>2016</th>\n",
              "      <th>2017</th>\n",
              "      <th>2018</th>\n",
              "      <th>2019</th>\n",
              "      <th>2020</th>\n",
              "    </tr>\n",
              "  </thead>\n",
              "  <tbody>\n",
              "    <tr>\n",
              "      <th>0</th>\n",
              "      <td>NaN</td>\n",
              "      <td>전체 건수</td>\n",
              "      <td>6,672</td>\n",
              "      <td>15,116</td>\n",
              "      <td>39,519</td>\n",
              "      <td>33,760</td>\n",
              "      <td>34,366</td>\n",
              "      <td>14,546</td>\n",
              "      <td>8,713</td>\n",
              "      <td>7,374</td>\n",
              "      <td>5,073</td>\n",
              "      <td>4,257</td>\n",
              "      <td>4,380</td>\n",
              "    </tr>\n",
              "    <tr>\n",
              "      <th>1</th>\n",
              "      <td>NaN</td>\n",
              "      <td>전체 보상금액</td>\n",
              "      <td>18,361</td>\n",
              "      <td>22,566</td>\n",
              "      <td>53,179</td>\n",
              "      <td>57,672</td>\n",
              "      <td>88,164</td>\n",
              "      <td>52,975</td>\n",
              "      <td>31,769</td>\n",
              "      <td>36,038</td>\n",
              "      <td>36,736</td>\n",
              "      <td>40,138</td>\n",
              "      <td>41,907</td>\n",
              "    </tr>\n",
              "    <tr>\n",
              "      <th>2</th>\n",
              "      <td>NaN</td>\n",
              "      <td>형사보상 건수</td>\n",
              "      <td>6,649</td>\n",
              "      <td>15,097</td>\n",
              "      <td>39,501</td>\n",
              "      <td>33,745</td>\n",
              "      <td>34,352</td>\n",
              "      <td>14,532</td>\n",
              "      <td>8,690</td>\n",
              "      <td>7,355</td>\n",
              "      <td>5,062</td>\n",
              "      <td>4,232</td>\n",
              "      <td>4,366</td>\n",
              "    </tr>\n",
              "    <tr>\n",
              "      <th>3</th>\n",
              "      <td>NaN</td>\n",
              "      <td>형사보상 금액</td>\n",
              "      <td>18,317</td>\n",
              "      <td>22,522</td>\n",
              "      <td>53,148</td>\n",
              "      <td>57,641</td>\n",
              "      <td>88,135</td>\n",
              "      <td>52,937</td>\n",
              "      <td>31,681</td>\n",
              "      <td>35,934</td>\n",
              "      <td>36,704</td>\n",
              "      <td>39,812</td>\n",
              "      <td>41,651</td>\n",
              "    </tr>\n",
              "    <tr>\n",
              "      <th>4</th>\n",
              "      <td>NaN</td>\n",
              "      <td>피의자보상 건수</td>\n",
              "      <td>23</td>\n",
              "      <td>19</td>\n",
              "      <td>18</td>\n",
              "      <td>15</td>\n",
              "      <td>14</td>\n",
              "      <td>14</td>\n",
              "      <td>23</td>\n",
              "      <td>19</td>\n",
              "      <td>11</td>\n",
              "      <td>25</td>\n",
              "      <td>14</td>\n",
              "    </tr>\n",
              "    <tr>\n",
              "      <th>5</th>\n",
              "      <td>NaN</td>\n",
              "      <td>피의자보상 금액</td>\n",
              "      <td>44</td>\n",
              "      <td>44</td>\n",
              "      <td>31</td>\n",
              "      <td>31</td>\n",
              "      <td>29</td>\n",
              "      <td>38</td>\n",
              "      <td>88</td>\n",
              "      <td>104</td>\n",
              "      <td>32</td>\n",
              "      <td>326</td>\n",
              "      <td>256</td>\n",
              "    </tr>\n",
              "  </tbody>\n",
              "</table>\n",
              "</div>"
            ],
            "text/plain": [
              "   구  분        연도    2010    2011  ...    2017    2018    2019    2020\n",
              "0   NaN     전체 건수   6,672  15,116  ...   7,374   5,073   4,257   4,380\n",
              "1   NaN   전체 보상금액  18,361  22,566  ...  36,038  36,736  40,138  41,907\n",
              "2   NaN   형사보상 건수   6,649  15,097  ...   7,355   5,062   4,232   4,366\n",
              "3   NaN   형사보상 금액  18,317  22,522  ...  35,934  36,704  39,812  41,651\n",
              "4   NaN  피의자보상 건수      23      19  ...      19      11      25      14\n",
              "5   NaN  피의자보상 금액      44      44  ...     104      32     326     256\n",
              "\n",
              "[6 rows x 13 columns]"
            ]
          },
          "metadata": {
            "tags": []
          },
          "execution_count": 5
        }
      ]
    },
    {
      "cell_type": "code",
      "metadata": {
        "id": "6CYKH2a_LBFs"
      },
      "source": [
        "# 연도별 보상금 데이터프레임 생성\n",
        "data = {\n",
        "    \"전체 건수\" : [6672,\t15116,\t39519,\t33760,\t34366,\t14546,\t8713,\t7374,\t5073,\t4257,\t4380],\n",
        "    \"전체 보상금액\" : [18361,\t22566,\t53179,\t57672,\t88164,\t52975,\t31769,\t36038,\t36736,\t40138,\t41907],\n",
        "    \"형사보상 건수\" : [6649,\t15097,\t39501,\t33745,\t34352,\t14532,\t8690,\t7355,\t5062,\t4232,\t4366],\n",
        "    \"형사보상 금액\" : [18317,\t22522,\t53148,\t57641,\t88135,\t52937,\t31681,\t35934,\t36704,\t39812,\t41651],\n",
        "    \"피의자보상 건수\" : [23,\t19,\t18,\t15,\t14,\t14,\t23,\t19,\t11,\t25,\t14],\n",
        "    \"피의자보상 금액\" : [44,\t44,\t31,\t31,\t29,\t38,\t88,\t104,\t32,\t326,\t256],\n",
        "}\n",
        "columns = [\"전체 건수\", \"전체 보상금액\", \"형사보상 건수\", \"형사보상 금액\", \"피의자보상 건수\", \"피의자보상 금액\"]\n",
        "compen_df = pd.DataFrame(data, index=['2010',\t'2011',\t'2012',\t'2013',\t'2014',\t'2015',\t'2016',\t'2017',\t'2018',\t'2019',\t'2020'] , columns=columns)\n",
        "compen_df"
      ],
      "execution_count": null,
      "outputs": []
    },
    {
      "cell_type": "code",
      "metadata": {
        "id": "9y9TkTzmLdtj"
      },
      "source": [
        "# 시각화 준비\n",
        "import matplotlib as mpl\n",
        "import matplotlib.pyplot as plt\n",
        "%matplotlib inline\n",
        "# 폰트 지정\n",
        "plt.rc('font', family='NanumBarunGothic') "
      ],
      "execution_count": 7,
      "outputs": []
    },
    {
      "cell_type": "code",
      "metadata": {
        "colab": {
          "base_uri": "https://localhost:8080/",
          "height": 349
        },
        "id": "tIqfZiL2O04r",
        "outputId": "6196c0d1-d9cd-4c53-ae50-513aeeb549b4"
      },
      "source": [
        "# 라인 그래프 생성\n",
        "fig , axes = plt.subplots(figsize=(7,5))\n",
        "plt.title('2010~2020 형사보상금 현황')\n",
        "plt.plot(compen_df[\"형사보상 금액\"],  c = 'b')\n",
        "plt.plot(compen_df[\"형사보상 건수\"],  c = 'r')\n",
        "plt.xlabel('연도')\n",
        "plt.ylabel('형사보상 금액 및 건수')\n",
        "plt.legend(['형사보상 금액', '형사보상 건수'])\n",
        "plt.show()"
      ],
      "execution_count": 19,
      "outputs": [
        {
          "output_type": "display_data",
          "data": {
            "image/png": "[encoded data removed]",
            "text/plain": [
              "<Figure size 504x360 with 1 Axes>"
            ]
          },
          "metadata": {
            "tags": [],
            "needs_background": "light"
          }
        }
      ]
    },
    {
      "cell_type": "code",
      "metadata": {
        "id": "ZITMEQ48PqXv"
      },
      "source": [
        ""
      ],
      "execution_count": null,
      "outputs": []
    }
  ]
}