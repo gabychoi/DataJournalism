{
  "nbformat": 4,
  "nbformat_minor": 0,
  "metadata": {
    "colab": {
      "name": "EDA",
      "provenance": [],
      "authorship_tag": "ABX9TyM/B0eZIjHXZ0HxcbMCOyCm",
      "include_colab_link": true
    },
    "kernelspec": {
      "name": "python3",
      "display_name": "Python 3"
    }
  },
  "cells": [
    {
      "cell_type": "markdown",
      "metadata": {
        "id": "view-in-github",
        "colab_type": "text"
      },
      "source": [
        "<a href=\"https://colab.research.google.com/github/gabychoi/comment-clean-bot/blob/main/EDA.ipynb\" target=\"_parent\"><img src=\"https://colab.research.google.com/assets/colab-badge.svg\" alt=\"Open In Colab\"/></a>"
      ]
    },
    {
      "cell_type": "code",
      "metadata": {
        "id": "rzNANvYwZRmr"
      },
      "source": [
        "import warnings\n",
        "\n",
        "warnings.filterwarnings('ignore')"
      ],
      "execution_count": null,
      "outputs": []
    },
    {
      "cell_type": "code",
      "metadata": {
        "colab": {
          "base_uri": "https://localhost:8080/"
        },
        "id": "vKiPsx_0Z5CV",
        "outputId": "573ac96e-ab16-4597-e90d-b50151ef89ac"
      },
      "source": [
        "import pandas as pd\n",
        "import numpy as np \n",
        "from google.colab import drive\n",
        "drive.mount('/content/gdrive')"
      ],
      "execution_count": 2,
      "outputs": [
        {
          "output_type": "stream",
          "text": [
            "Mounted at /content/gdrive\n"
          ],
          "name": "stdout"
        }
      ]
    },
    {
      "cell_type": "code",
      "metadata": {
        "id": "5lRIfysWaANl"
      },
      "source": [
        "import glob\n",
        "import re\n",
        "\n",
        "from tqdm import tqdm_notebook"
      ],
      "execution_count": null,
      "outputs": []
    },
    {
      "cell_type": "code",
      "metadata": {
        "id": "WF9VxjVdaAx3"
      },
      "source": [
        ""
      ],
      "execution_count": null,
      "outputs": []
    },
    {
      "cell_type": "code",
      "metadata": {
        "colab": {
          "base_uri": "https://localhost:8080/",
          "height": 419
        },
        "id": "wVzHGFh3aEKH",
        "outputId": "901fbe3c-6075-431e-95b2-e884f71b3352"
      },
      "source": [
        "# 크롤링한 전체 댓글 데이터 불러오기\n",
        "repl_data = pd.read_csv('/content/gdrive/My Drive/eda_data/repl_data.csv')"
      ],
      "execution_count": 3,
      "outputs": [
        {
          "output_type": "execute_result",
          "data": {
            "text/html": [
              "<div>\n",
              "<style scoped>\n",
              "    .dataframe tbody tr th:only-of-type {\n",
              "        vertical-align: middle;\n",
              "    }\n",
              "\n",
              "    .dataframe tbody tr th {\n",
              "        vertical-align: top;\n",
              "    }\n",
              "\n",
              "    .dataframe thead th {\n",
              "        text-align: right;\n",
              "    }\n",
              "</style>\n",
              "<table border=\"1\" class=\"dataframe\">\n",
              "  <thead>\n",
              "    <tr style=\"text-align: right;\">\n",
              "      <th></th>\n",
              "      <th>Unnamed: 0</th>\n",
              "      <th>Unnamed: 0.1</th>\n",
              "      <th>댓글</th>\n",
              "      <th>출처</th>\n",
              "    </tr>\n",
              "  </thead>\n",
              "  <tbody>\n",
              "    <tr>\n",
              "      <th>0</th>\n",
              "      <td>0</td>\n",
              "      <td>0</td>\n",
              "      <td>🗣</td>\n",
              "      <td>./data\\JTBCNEWS_인스타_댓글_1116.csv</td>\n",
              "    </tr>\n",
              "    <tr>\n",
              "      <th>1</th>\n",
              "      <td>1</td>\n",
              "      <td>1</td>\n",
              "      <td>심각허다,, 법안 검토도 안 하는 의원들 내 세금으로 호의호식 한다 생각하니까 열받...</td>\n",
              "      <td>./data\\JTBCNEWS_인스타_댓글_1116.csv</td>\n",
              "    </tr>\n",
              "    <tr>\n",
              "      <th>2</th>\n",
              "      <td>2</td>\n",
              "      <td>2</td>\n",
              "      <td>차도에서 25km제한 둠 어쩌자는건지 자전거 오토바이도 그거보다 빠르다 인도, 차도...</td>\n",
              "      <td>./data\\JTBCNEWS_인스타_댓글_1116.csv</td>\n",
              "    </tr>\n",
              "    <tr>\n",
              "      <th>3</th>\n",
              "      <td>3</td>\n",
              "      <td>3</td>\n",
              "      <td>국회의원직 다 박탈했으면 좋겠네ㅠㅠ</td>\n",
              "      <td>./data\\JTBCNEWS_인스타_댓글_1116.csv</td>\n",
              "    </tr>\n",
              "    <tr>\n",
              "      <th>4</th>\n",
              "      <td>4</td>\n",
              "      <td>4</td>\n",
              "      <td>표 얻을 생각 말고 법을 만들어라</td>\n",
              "      <td>./data\\JTBCNEWS_인스타_댓글_1116.csv</td>\n",
              "    </tr>\n",
              "    <tr>\n",
              "      <th>...</th>\n",
              "      <td>...</td>\n",
              "      <td>...</td>\n",
              "      <td>...</td>\n",
              "      <td>...</td>\n",
              "    </tr>\n",
              "    <tr>\n",
              "      <th>127120</th>\n",
              "      <td>968</td>\n",
              "      <td>968</td>\n",
              "      <td>🇧🇻🇰🇷❤️❤️❤️</td>\n",
              "      <td>./data\\홍석천.csv</td>\n",
              "    </tr>\n",
              "    <tr>\n",
              "      <th>127121</th>\n",
              "      <td>969</td>\n",
              "      <td>969</td>\n",
              "      <td>이건... 홍마담에서 구입 못하나요? ㅎㅎㅎ</td>\n",
              "      <td>./data\\홍석천.csv</td>\n",
              "    </tr>\n",
              "    <tr>\n",
              "      <th>127122</th>\n",
              "      <td>970</td>\n",
              "      <td>970</td>\n",
              "      <td>느무 잘먹는 예 9</td>\n",
              "      <td>./data\\홍석천.csv</td>\n",
              "    </tr>\n",
              "    <tr>\n",
              "      <th>127123</th>\n",
              "      <td>971</td>\n",
              "      <td>971</td>\n",
              "      <td>맛있는건 눈으로만 봐도 알죠,맛있게 드세요</td>\n",
              "      <td>./data\\홍석천.csv</td>\n",
              "    </tr>\n",
              "    <tr>\n",
              "      <th>127124</th>\n",
              "      <td>972</td>\n",
              "      <td>972</td>\n",
              "      <td>👏👏👏😂😂😂</td>\n",
              "      <td>./data\\홍석천.csv</td>\n",
              "    </tr>\n",
              "  </tbody>\n",
              "</table>\n",
              "<p>127125 rows × 4 columns</p>\n",
              "</div>"
            ],
            "text/plain": [
              "        Unnamed: 0  ...                               출처\n",
              "0                0  ...  ./data\\JTBCNEWS_인스타_댓글_1116.csv\n",
              "1                1  ...  ./data\\JTBCNEWS_인스타_댓글_1116.csv\n",
              "2                2  ...  ./data\\JTBCNEWS_인스타_댓글_1116.csv\n",
              "3                3  ...  ./data\\JTBCNEWS_인스타_댓글_1116.csv\n",
              "4                4  ...  ./data\\JTBCNEWS_인스타_댓글_1116.csv\n",
              "...            ...  ...                              ...\n",
              "127120         968  ...                   ./data\\홍석천.csv\n",
              "127121         969  ...                   ./data\\홍석천.csv\n",
              "127122         970  ...                   ./data\\홍석천.csv\n",
              "127123         971  ...                   ./data\\홍석천.csv\n",
              "127124         972  ...                   ./data\\홍석천.csv\n",
              "\n",
              "[127125 rows x 4 columns]"
            ]
          },
          "metadata": {
            "tags": []
          },
          "execution_count": 3
        }
      ]
    },
    {
      "cell_type": "code",
      "metadata": {
        "colab": {
          "base_uri": "https://localhost:8080/"
        },
        "id": "sfdEK3AQa5ly",
        "outputId": "34c8b43c-bdc7-4687-8c04-5376ea5a2374"
      },
      "source": [
        "# 댓글 길이 확인\n",
        "repl_data['댓글길이'] = repl_data['댓글'].apply(lambda x : len(str(x)))\n",
        "\n",
        "repl_data['댓글길이'].max()"
      ],
      "execution_count": 40,
      "outputs": [
        {
          "output_type": "execute_result",
          "data": {
            "text/plain": [
              "2229"
            ]
          },
          "metadata": {
            "tags": []
          },
          "execution_count": 40
        }
      ]
    },
    {
      "cell_type": "code",
      "metadata": {
        "id": "16i5A_5Pa_hk"
      },
      "source": [
        "# 댓글길이 시각화\n",
        "\n",
        "import seaborn as sns\n",
        "import matplotlib.pyplot as plt"
      ],
      "execution_count": 6,
      "outputs": []
    },
    {
      "cell_type": "code",
      "metadata": {
        "colab": {
          "base_uri": "https://localhost:8080/",
          "height": 450
        },
        "id": "_xELYKQUeMov",
        "outputId": "e4b049e6-cb28-42d2-906a-e8264d80600d"
      },
      "source": [
        "len_int = repl_data['댓글길이'].astype(int)\n",
        "len_sort = len_int.sort_values()\n",
        "sort_df = pd.DataFrame(len_sort)\n",
        "\n",
        "len_count = pd.DataFrame(sort_df.groupby(['댓글길이']).size())\n",
        "len_count.columns = ['댓글개수']\n",
        "len_count\n",
        "\n"
      ],
      "execution_count": 63,
      "outputs": [
        {
          "output_type": "execute_result",
          "data": {
            "text/html": [
              "<div>\n",
              "<style scoped>\n",
              "    .dataframe tbody tr th:only-of-type {\n",
              "        vertical-align: middle;\n",
              "    }\n",
              "\n",
              "    .dataframe tbody tr th {\n",
              "        vertical-align: top;\n",
              "    }\n",
              "\n",
              "    .dataframe thead th {\n",
              "        text-align: right;\n",
              "    }\n",
              "</style>\n",
              "<table border=\"1\" class=\"dataframe\">\n",
              "  <thead>\n",
              "    <tr style=\"text-align: right;\">\n",
              "      <th></th>\n",
              "      <th>댓글개수</th>\n",
              "    </tr>\n",
              "    <tr>\n",
              "      <th>댓글길이</th>\n",
              "      <th></th>\n",
              "    </tr>\n",
              "  </thead>\n",
              "  <tbody>\n",
              "    <tr>\n",
              "      <th>1</th>\n",
              "      <td>1468</td>\n",
              "    </tr>\n",
              "    <tr>\n",
              "      <th>2</th>\n",
              "      <td>1779</td>\n",
              "    </tr>\n",
              "    <tr>\n",
              "      <th>3</th>\n",
              "      <td>1889</td>\n",
              "    </tr>\n",
              "    <tr>\n",
              "      <th>4</th>\n",
              "      <td>1669</td>\n",
              "    </tr>\n",
              "    <tr>\n",
              "      <th>5</th>\n",
              "      <td>2117</td>\n",
              "    </tr>\n",
              "    <tr>\n",
              "      <th>...</th>\n",
              "      <td>...</td>\n",
              "    </tr>\n",
              "    <tr>\n",
              "      <th>1931</th>\n",
              "      <td>1</td>\n",
              "    </tr>\n",
              "    <tr>\n",
              "      <th>1958</th>\n",
              "      <td>1</td>\n",
              "    </tr>\n",
              "    <tr>\n",
              "      <th>2071</th>\n",
              "      <td>1</td>\n",
              "    </tr>\n",
              "    <tr>\n",
              "      <th>2190</th>\n",
              "      <td>1</td>\n",
              "    </tr>\n",
              "    <tr>\n",
              "      <th>2229</th>\n",
              "      <td>1</td>\n",
              "    </tr>\n",
              "  </tbody>\n",
              "</table>\n",
              "<p>835 rows × 1 columns</p>\n",
              "</div>"
            ],
            "text/plain": [
              "      댓글개수\n",
              "댓글길이      \n",
              "1     1468\n",
              "2     1779\n",
              "3     1889\n",
              "4     1669\n",
              "5     2117\n",
              "...    ...\n",
              "1931     1\n",
              "1958     1\n",
              "2071     1\n",
              "2190     1\n",
              "2229     1\n",
              "\n",
              "[835 rows x 1 columns]"
            ]
          },
          "metadata": {
            "tags": []
          },
          "execution_count": 63
        }
      ]
    },
    {
      "cell_type": "code",
      "metadata": {
        "id": "9_Xq-YBXlxxw"
      },
      "source": [
        "len_count.reset_index(level=0, inplace=True)"
      ],
      "execution_count": 64,
      "outputs": []
    },
    {
      "cell_type": "code",
      "metadata": {
        "colab": {
          "base_uri": "https://localhost:8080/",
          "height": 419
        },
        "id": "eU3KMHsxmQyJ",
        "outputId": "25ca1099-9dcc-4293-f871-79c8dbd69132"
      },
      "source": [
        "len_count"
      ],
      "execution_count": 65,
      "outputs": [
        {
          "output_type": "execute_result",
          "data": {
            "text/html": [
              "<div>\n",
              "<style scoped>\n",
              "    .dataframe tbody tr th:only-of-type {\n",
              "        vertical-align: middle;\n",
              "    }\n",
              "\n",
              "    .dataframe tbody tr th {\n",
              "        vertical-align: top;\n",
              "    }\n",
              "\n",
              "    .dataframe thead th {\n",
              "        text-align: right;\n",
              "    }\n",
              "</style>\n",
              "<table border=\"1\" class=\"dataframe\">\n",
              "  <thead>\n",
              "    <tr style=\"text-align: right;\">\n",
              "      <th></th>\n",
              "      <th>댓글길이</th>\n",
              "      <th>댓글개수</th>\n",
              "    </tr>\n",
              "  </thead>\n",
              "  <tbody>\n",
              "    <tr>\n",
              "      <th>0</th>\n",
              "      <td>1</td>\n",
              "      <td>1468</td>\n",
              "    </tr>\n",
              "    <tr>\n",
              "      <th>1</th>\n",
              "      <td>2</td>\n",
              "      <td>1779</td>\n",
              "    </tr>\n",
              "    <tr>\n",
              "      <th>2</th>\n",
              "      <td>3</td>\n",
              "      <td>1889</td>\n",
              "    </tr>\n",
              "    <tr>\n",
              "      <th>3</th>\n",
              "      <td>4</td>\n",
              "      <td>1669</td>\n",
              "    </tr>\n",
              "    <tr>\n",
              "      <th>4</th>\n",
              "      <td>5</td>\n",
              "      <td>2117</td>\n",
              "    </tr>\n",
              "    <tr>\n",
              "      <th>...</th>\n",
              "      <td>...</td>\n",
              "      <td>...</td>\n",
              "    </tr>\n",
              "    <tr>\n",
              "      <th>830</th>\n",
              "      <td>1931</td>\n",
              "      <td>1</td>\n",
              "    </tr>\n",
              "    <tr>\n",
              "      <th>831</th>\n",
              "      <td>1958</td>\n",
              "      <td>1</td>\n",
              "    </tr>\n",
              "    <tr>\n",
              "      <th>832</th>\n",
              "      <td>2071</td>\n",
              "      <td>1</td>\n",
              "    </tr>\n",
              "    <tr>\n",
              "      <th>833</th>\n",
              "      <td>2190</td>\n",
              "      <td>1</td>\n",
              "    </tr>\n",
              "    <tr>\n",
              "      <th>834</th>\n",
              "      <td>2229</td>\n",
              "      <td>1</td>\n",
              "    </tr>\n",
              "  </tbody>\n",
              "</table>\n",
              "<p>835 rows × 2 columns</p>\n",
              "</div>"
            ],
            "text/plain": [
              "     댓글길이  댓글개수\n",
              "0       1  1468\n",
              "1       2  1779\n",
              "2       3  1889\n",
              "3       4  1669\n",
              "4       5  2117\n",
              "..    ...   ...\n",
              "830  1931     1\n",
              "831  1958     1\n",
              "832  2071     1\n",
              "833  2190     1\n",
              "834  2229     1\n",
              "\n",
              "[835 rows x 2 columns]"
            ]
          },
          "metadata": {
            "tags": []
          },
          "execution_count": 65
        }
      ]
    },
    {
      "cell_type": "code",
      "metadata": {
        "colab": {
          "base_uri": "https://localhost:8080/"
        },
        "id": "dB0XrUDShIEf",
        "outputId": "c5794b76-d34d-4023-9851-fdd8cbf29363"
      },
      "source": [
        "# 한글 폰트 문제 해결\n",
        "import platform\n",
        "\n",
        "from matplotlib import font_manager, rc\n",
        "# plt.rcParams['axes.unicode_minus'] = False\n",
        "\n",
        "if platform.system() == 'Darwin':\n",
        "    rc('font', family='AppleGothic')\n",
        "elif platform.system() == 'Windows':\n",
        "    path = \"c:/Windows/Fonts/malgun.ttf\"\n",
        "    font_name = font_manager.FontProperties(fname=path).get_name()\n",
        "    rc('font', family=font_name)\n",
        "else:\n",
        "    print('Unknown system... sorry~~~~')"
      ],
      "execution_count": 44,
      "outputs": [
        {
          "output_type": "stream",
          "text": [
            "Unknown system... sorry~~~~\n"
          ],
          "name": "stdout"
        }
      ]
    },
    {
      "cell_type": "code",
      "metadata": {
        "id": "M-a_jiYWkNc1"
      },
      "source": [
        "import matplotlib as mpl\n",
        "%matplotlib inline"
      ],
      "execution_count": 69,
      "outputs": []
    },
    {
      "cell_type": "code",
      "metadata": {
        "colab": {
          "base_uri": "https://localhost:8080/",
          "height": 281
        },
        "id": "Byu5I2wDkNkT",
        "outputId": "b0a092fb-bcbf-4761-b35c-fe14c26f6513"
      },
      "source": [
        "plt.title('Comment Length Visualization')\n",
        "plt.plot(len_count['댓글길이'], len_count['댓글개수']) #앞이 x축, 뒤가 y축\n",
        "# plt.xlabel('댓글길이')\n",
        "# plt.ylabel('댓글개수')\n",
        "plt.show()"
      ],
      "execution_count": 72,
      "outputs": [
        {
          "output_type": "display_data",
          "data": {
            "image/png": "[encoded data removed]",
            "text/plain": [
              "<Figure size 432x288 with 1 Axes>"
            ]
          },
          "metadata": {
            "tags": [],
            "needs_background": "light"
          }
        }
      ]
    },
    {
      "cell_type": "code",
      "metadata": {
        "colab": {
          "base_uri": "https://localhost:8080/"
        },
        "id": "dWc0wyrwkNpS",
        "outputId": "057d45df-1834-49e1-8767-c5487f2d436d"
      },
      "source": [
        "len_count.info()"
      ],
      "execution_count": 47,
      "outputs": [
        {
          "output_type": "stream",
          "text": [
            "<class 'pandas.core.frame.DataFrame'>\n",
            "Int64Index: 835 entries, 1 to 2229\n",
            "Data columns (total 1 columns):\n",
            " #   Column  Non-Null Count  Dtype\n",
            "---  ------  --------------  -----\n",
            " 0   댓글 개수   835 non-null    int64\n",
            "dtypes: int64(1)\n",
            "memory usage: 13.0 KB\n"
          ],
          "name": "stdout"
        }
      ]
    },
    {
      "cell_type": "code",
      "metadata": {
        "colab": {
          "base_uri": "https://localhost:8080/",
          "height": 419
        },
        "id": "fMcHoPtbppUi",
        "outputId": "f31eeeb2-2f2f-41a1-ef9b-0dda18bb39f3"
      },
      "source": [
        "repl_data"
      ],
      "execution_count": 88,
      "outputs": [
        {
          "output_type": "execute_result",
          "data": {
            "text/html": [
              "<div>\n",
              "<style scoped>\n",
              "    .dataframe tbody tr th:only-of-type {\n",
              "        vertical-align: middle;\n",
              "    }\n",
              "\n",
              "    .dataframe tbody tr th {\n",
              "        vertical-align: top;\n",
              "    }\n",
              "\n",
              "    .dataframe thead th {\n",
              "        text-align: right;\n",
              "    }\n",
              "</style>\n",
              "<table border=\"1\" class=\"dataframe\">\n",
              "  <thead>\n",
              "    <tr style=\"text-align: right;\">\n",
              "      <th></th>\n",
              "      <th>Unnamed: 0</th>\n",
              "      <th>Unnamed: 0.1</th>\n",
              "      <th>댓글</th>\n",
              "      <th>출처</th>\n",
              "      <th>댓글길이</th>\n",
              "    </tr>\n",
              "  </thead>\n",
              "  <tbody>\n",
              "    <tr>\n",
              "      <th>0</th>\n",
              "      <td>0</td>\n",
              "      <td>0</td>\n",
              "      <td>🗣</td>\n",
              "      <td>./data\\JTBCNEWS_인스타_댓글_1116.csv</td>\n",
              "      <td>1</td>\n",
              "    </tr>\n",
              "    <tr>\n",
              "      <th>1</th>\n",
              "      <td>1</td>\n",
              "      <td>1</td>\n",
              "      <td>심각허다,, 법안 검토도 안 하는 의원들 내 세금으로 호의호식 한다 생각하니까 열받...</td>\n",
              "      <td>./data\\JTBCNEWS_인스타_댓글_1116.csv</td>\n",
              "      <td>66</td>\n",
              "    </tr>\n",
              "    <tr>\n",
              "      <th>2</th>\n",
              "      <td>2</td>\n",
              "      <td>2</td>\n",
              "      <td>차도에서 25km제한 둠 어쩌자는건지 자전거 오토바이도 그거보다 빠르다 인도, 차도...</td>\n",
              "      <td>./data\\JTBCNEWS_인스타_댓글_1116.csv</td>\n",
              "      <td>137</td>\n",
              "    </tr>\n",
              "    <tr>\n",
              "      <th>3</th>\n",
              "      <td>3</td>\n",
              "      <td>3</td>\n",
              "      <td>국회의원직 다 박탈했으면 좋겠네ㅠㅠ</td>\n",
              "      <td>./data\\JTBCNEWS_인스타_댓글_1116.csv</td>\n",
              "      <td>19</td>\n",
              "    </tr>\n",
              "    <tr>\n",
              "      <th>4</th>\n",
              "      <td>4</td>\n",
              "      <td>4</td>\n",
              "      <td>표 얻을 생각 말고 법을 만들어라</td>\n",
              "      <td>./data\\JTBCNEWS_인스타_댓글_1116.csv</td>\n",
              "      <td>18</td>\n",
              "    </tr>\n",
              "    <tr>\n",
              "      <th>...</th>\n",
              "      <td>...</td>\n",
              "      <td>...</td>\n",
              "      <td>...</td>\n",
              "      <td>...</td>\n",
              "      <td>...</td>\n",
              "    </tr>\n",
              "    <tr>\n",
              "      <th>127120</th>\n",
              "      <td>968</td>\n",
              "      <td>968</td>\n",
              "      <td>🇧🇻🇰🇷❤️❤️❤️</td>\n",
              "      <td>./data\\홍석천.csv</td>\n",
              "      <td>10</td>\n",
              "    </tr>\n",
              "    <tr>\n",
              "      <th>127121</th>\n",
              "      <td>969</td>\n",
              "      <td>969</td>\n",
              "      <td>이건... 홍마담에서 구입 못하나요? ㅎㅎㅎ</td>\n",
              "      <td>./data\\홍석천.csv</td>\n",
              "      <td>24</td>\n",
              "    </tr>\n",
              "    <tr>\n",
              "      <th>127122</th>\n",
              "      <td>970</td>\n",
              "      <td>970</td>\n",
              "      <td>느무 잘먹는 예 9</td>\n",
              "      <td>./data\\홍석천.csv</td>\n",
              "      <td>10</td>\n",
              "    </tr>\n",
              "    <tr>\n",
              "      <th>127123</th>\n",
              "      <td>971</td>\n",
              "      <td>971</td>\n",
              "      <td>맛있는건 눈으로만 봐도 알죠,맛있게 드세요</td>\n",
              "      <td>./data\\홍석천.csv</td>\n",
              "      <td>23</td>\n",
              "    </tr>\n",
              "    <tr>\n",
              "      <th>127124</th>\n",
              "      <td>972</td>\n",
              "      <td>972</td>\n",
              "      <td>👏👏👏😂😂😂</td>\n",
              "      <td>./data\\홍석천.csv</td>\n",
              "      <td>6</td>\n",
              "    </tr>\n",
              "  </tbody>\n",
              "</table>\n",
              "<p>126545 rows × 5 columns</p>\n",
              "</div>"
            ],
            "text/plain": [
              "        Unnamed: 0  Unnamed: 0.1  ...                               출처 댓글길이\n",
              "0                0             0  ...  ./data\\JTBCNEWS_인스타_댓글_1116.csv    1\n",
              "1                1             1  ...  ./data\\JTBCNEWS_인스타_댓글_1116.csv   66\n",
              "2                2             2  ...  ./data\\JTBCNEWS_인스타_댓글_1116.csv  137\n",
              "3                3             3  ...  ./data\\JTBCNEWS_인스타_댓글_1116.csv   19\n",
              "4                4             4  ...  ./data\\JTBCNEWS_인스타_댓글_1116.csv   18\n",
              "...            ...           ...  ...                              ...  ...\n",
              "127120         968           968  ...                   ./data\\홍석천.csv   10\n",
              "127121         969           969  ...                   ./data\\홍석천.csv   24\n",
              "127122         970           970  ...                   ./data\\홍석천.csv   10\n",
              "127123         971           971  ...                   ./data\\홍석천.csv   23\n",
              "127124         972           972  ...                   ./data\\홍석천.csv    6\n",
              "\n",
              "[126545 rows x 5 columns]"
            ]
          },
          "metadata": {
            "tags": []
          },
          "execution_count": 88
        }
      ]
    },
    {
      "cell_type": "code",
      "metadata": {
        "colab": {
          "base_uri": "https://localhost:8080/",
          "height": 419
        },
        "id": "1aat-wmdkNv5",
        "outputId": "58b1f74f-2da7-457a-a638-6327ce6f4313"
      },
      "source": [
        "# 댓글길이 300이상 500이하\n",
        "repl_data = repl_data[(repl_data['댓글길이'] <= 500) & (repl_data['댓글길이'] >= 300)]\n",
        "repl_data"
      ],
      "execution_count": 96,
      "outputs": [
        {
          "output_type": "execute_result",
          "data": {
            "text/html": [
              "<div>\n",
              "<style scoped>\n",
              "    .dataframe tbody tr th:only-of-type {\n",
              "        vertical-align: middle;\n",
              "    }\n",
              "\n",
              "    .dataframe tbody tr th {\n",
              "        vertical-align: top;\n",
              "    }\n",
              "\n",
              "    .dataframe thead th {\n",
              "        text-align: right;\n",
              "    }\n",
              "</style>\n",
              "<table border=\"1\" class=\"dataframe\">\n",
              "  <thead>\n",
              "    <tr style=\"text-align: right;\">\n",
              "      <th></th>\n",
              "      <th>Unnamed: 0</th>\n",
              "      <th>Unnamed: 0.1</th>\n",
              "      <th>댓글</th>\n",
              "      <th>출처</th>\n",
              "      <th>댓글길이</th>\n",
              "    </tr>\n",
              "  </thead>\n",
              "  <tbody>\n",
              "    <tr>\n",
              "      <th>20</th>\n",
              "      <td>20</td>\n",
              "      <td>20</td>\n",
              "      <td>화재는 원인 조사를 통한 예방이 최선입니다 그래도 소방청 통계로 매일 발생하는 화재...</td>\n",
              "      <td>./data\\JTBCNEWS_인스타_댓글_1116.csv</td>\n",
              "      <td>444</td>\n",
              "    </tr>\n",
              "    <tr>\n",
              "      <th>21</th>\n",
              "      <td>21</td>\n",
              "      <td>21</td>\n",
              "      <td>다들 비슷한 경험을 하실겁니다 오작동 화재감지기 덕에 스프링클러 연동 차단하고(화재...</td>\n",
              "      <td>./data\\JTBCNEWS_인스타_댓글_1116.csv</td>\n",
              "      <td>369</td>\n",
              "    </tr>\n",
              "    <tr>\n",
              "      <th>23</th>\n",
              "      <td>23</td>\n",
              "      <td>23</td>\n",
              "      <td>문재인 대통령님 화재시 반복되는 연기와 유독가스에 의한 질식사가 전체 사망자의 70...</td>\n",
              "      <td>./data\\JTBCNEWS_인스타_댓글_1116.csv</td>\n",
              "      <td>426</td>\n",
              "    </tr>\n",
              "    <tr>\n",
              "      <th>616</th>\n",
              "      <td>616</td>\n",
              "      <td>616</td>\n",
              "      <td>본 언론사의 기사에서 아르메니아인들이 한국으로 부터 도움을 구하고 있으며, 방탄소년...</td>\n",
              "      <td>./data\\JTBCNEWS_인스타_댓글_1116.csv</td>\n",
              "      <td>365</td>\n",
              "    </tr>\n",
              "    <tr>\n",
              "      <th>617</th>\n",
              "      <td>617</td>\n",
              "      <td>617</td>\n",
              "      <td>본 언론사의 기사에서 아르메니아인들이 한국으로 부터 도움을 구하고 있으며, 방탄소년...</td>\n",
              "      <td>./data\\JTBCNEWS_인스타_댓글_1116.csv</td>\n",
              "      <td>365</td>\n",
              "    </tr>\n",
              "    <tr>\n",
              "      <th>...</th>\n",
              "      <td>...</td>\n",
              "      <td>...</td>\n",
              "      <td>...</td>\n",
              "      <td>...</td>\n",
              "      <td>...</td>\n",
              "    </tr>\n",
              "    <tr>\n",
              "      <th>124827</th>\n",
              "      <td>458</td>\n",
              "      <td>458</td>\n",
              "      <td>다들 방송이란게 그렇습니다. 다그대로 찍는다고 방송마음대로 다 그대로 내보내지 않아...</td>\n",
              "      <td>./data\\함소원.csv</td>\n",
              "      <td>349</td>\n",
              "    </tr>\n",
              "    <tr>\n",
              "      <th>125068</th>\n",
              "      <td>699</td>\n",
              "      <td>699</td>\n",
              "      <td>일을 조금이라도 줄이시고 혜정이와 함께하는 시간을 좀 더 늘리는게 어떨까요? 돈도 ...</td>\n",
              "      <td>./data\\함소원.csv</td>\n",
              "      <td>400</td>\n",
              "    </tr>\n",
              "    <tr>\n",
              "      <th>125073</th>\n",
              "      <td>704</td>\n",
              "      <td>704</td>\n",
              "      <td>음.. 저도 아기엄마지만 일하면서 키우는데 다른건 몰라도 아이 아플땐 엄마 밖에 없...</td>\n",
              "      <td>./data\\함소원.csv</td>\n",
              "      <td>319</td>\n",
              "    </tr>\n",
              "    <tr>\n",
              "      <th>126620</th>\n",
              "      <td>468</td>\n",
              "      <td>468</td>\n",
              "      <td>제이야기를 해볼까 합니다 저는 지금호흡기2급 장애를 가지고 살아가고 있습니다 199...</td>\n",
              "      <td>./data\\홍석천.csv</td>\n",
              "      <td>327</td>\n",
              "    </tr>\n",
              "    <tr>\n",
              "      <th>126720</th>\n",
              "      <td>568</td>\n",
              "      <td>568</td>\n",
              "      <td>이런 메세지 처음 남겨봅니다.\\r\\n항상 항상 응원해 왔습니다.\\r\\n예전도 지금도...</td>\n",
              "      <td>./data\\홍석천.csv</td>\n",
              "      <td>335</td>\n",
              "    </tr>\n",
              "  </tbody>\n",
              "</table>\n",
              "<p>855 rows × 5 columns</p>\n",
              "</div>"
            ],
            "text/plain": [
              "        Unnamed: 0  Unnamed: 0.1  ...                               출처 댓글길이\n",
              "20              20            20  ...  ./data\\JTBCNEWS_인스타_댓글_1116.csv  444\n",
              "21              21            21  ...  ./data\\JTBCNEWS_인스타_댓글_1116.csv  369\n",
              "23              23            23  ...  ./data\\JTBCNEWS_인스타_댓글_1116.csv  426\n",
              "616            616           616  ...  ./data\\JTBCNEWS_인스타_댓글_1116.csv  365\n",
              "617            617           617  ...  ./data\\JTBCNEWS_인스타_댓글_1116.csv  365\n",
              "...            ...           ...  ...                              ...  ...\n",
              "124827         458           458  ...                   ./data\\함소원.csv  349\n",
              "125068         699           699  ...                   ./data\\함소원.csv  400\n",
              "125073         704           704  ...                   ./data\\함소원.csv  319\n",
              "126620         468           468  ...                   ./data\\홍석천.csv  327\n",
              "126720         568           568  ...                   ./data\\홍석천.csv  335\n",
              "\n",
              "[855 rows x 5 columns]"
            ]
          },
          "metadata": {
            "tags": []
          },
          "execution_count": 96
        }
      ]
    },
    {
      "cell_type": "code",
      "metadata": {
        "colab": {
          "base_uri": "https://localhost:8080/",
          "height": 450
        },
        "id": "IplyIzERnTGm",
        "outputId": "91476328-f3a4-4855-cd50-62301b2cb43e"
      },
      "source": [
        "len_int = repl_data['댓글길이'].astype(int)\n",
        "len_sort = len_int.sort_values()\n",
        "sort_df = pd.DataFrame(len_sort)\n",
        "\n",
        "len_count = pd.DataFrame(sort_df.groupby(['댓글길이']).size())\n",
        "len_count.columns = ['댓글개수']\n",
        "len_count\n"
      ],
      "execution_count": 97,
      "outputs": [
        {
          "output_type": "execute_result",
          "data": {
            "text/html": [
              "<div>\n",
              "<style scoped>\n",
              "    .dataframe tbody tr th:only-of-type {\n",
              "        vertical-align: middle;\n",
              "    }\n",
              "\n",
              "    .dataframe tbody tr th {\n",
              "        vertical-align: top;\n",
              "    }\n",
              "\n",
              "    .dataframe thead th {\n",
              "        text-align: right;\n",
              "    }\n",
              "</style>\n",
              "<table border=\"1\" class=\"dataframe\">\n",
              "  <thead>\n",
              "    <tr style=\"text-align: right;\">\n",
              "      <th></th>\n",
              "      <th>댓글개수</th>\n",
              "    </tr>\n",
              "    <tr>\n",
              "      <th>댓글길이</th>\n",
              "      <th></th>\n",
              "    </tr>\n",
              "  </thead>\n",
              "  <tbody>\n",
              "    <tr>\n",
              "      <th>300</th>\n",
              "      <td>11</td>\n",
              "    </tr>\n",
              "    <tr>\n",
              "      <th>301</th>\n",
              "      <td>7</td>\n",
              "    </tr>\n",
              "    <tr>\n",
              "      <th>302</th>\n",
              "      <td>5</td>\n",
              "    </tr>\n",
              "    <tr>\n",
              "      <th>303</th>\n",
              "      <td>7</td>\n",
              "    </tr>\n",
              "    <tr>\n",
              "      <th>304</th>\n",
              "      <td>7</td>\n",
              "    </tr>\n",
              "    <tr>\n",
              "      <th>...</th>\n",
              "      <td>...</td>\n",
              "    </tr>\n",
              "    <tr>\n",
              "      <th>496</th>\n",
              "      <td>2</td>\n",
              "    </tr>\n",
              "    <tr>\n",
              "      <th>497</th>\n",
              "      <td>2</td>\n",
              "    </tr>\n",
              "    <tr>\n",
              "      <th>498</th>\n",
              "      <td>3</td>\n",
              "    </tr>\n",
              "    <tr>\n",
              "      <th>499</th>\n",
              "      <td>1</td>\n",
              "    </tr>\n",
              "    <tr>\n",
              "      <th>500</th>\n",
              "      <td>4</td>\n",
              "    </tr>\n",
              "  </tbody>\n",
              "</table>\n",
              "<p>193 rows × 1 columns</p>\n",
              "</div>"
            ],
            "text/plain": [
              "      댓글개수\n",
              "댓글길이      \n",
              "300     11\n",
              "301      7\n",
              "302      5\n",
              "303      7\n",
              "304      7\n",
              "...    ...\n",
              "496      2\n",
              "497      2\n",
              "498      3\n",
              "499      1\n",
              "500      4\n",
              "\n",
              "[193 rows x 1 columns]"
            ]
          },
          "metadata": {
            "tags": []
          },
          "execution_count": 97
        }
      ]
    },
    {
      "cell_type": "code",
      "metadata": {
        "id": "fHNwAetKnTL4"
      },
      "source": [
        "len_count.reset_index(level=0, inplace=True)"
      ],
      "execution_count": 98,
      "outputs": []
    },
    {
      "cell_type": "code",
      "metadata": {
        "colab": {
          "base_uri": "https://localhost:8080/",
          "height": 419
        },
        "id": "EEZUXeEsnTQ5",
        "outputId": "ec1f06df-292b-4457-9984-e152164b3cf6"
      },
      "source": [
        "len_count"
      ],
      "execution_count": 99,
      "outputs": [
        {
          "output_type": "execute_result",
          "data": {
            "text/html": [
              "<div>\n",
              "<style scoped>\n",
              "    .dataframe tbody tr th:only-of-type {\n",
              "        vertical-align: middle;\n",
              "    }\n",
              "\n",
              "    .dataframe tbody tr th {\n",
              "        vertical-align: top;\n",
              "    }\n",
              "\n",
              "    .dataframe thead th {\n",
              "        text-align: right;\n",
              "    }\n",
              "</style>\n",
              "<table border=\"1\" class=\"dataframe\">\n",
              "  <thead>\n",
              "    <tr style=\"text-align: right;\">\n",
              "      <th></th>\n",
              "      <th>댓글길이</th>\n",
              "      <th>댓글개수</th>\n",
              "    </tr>\n",
              "  </thead>\n",
              "  <tbody>\n",
              "    <tr>\n",
              "      <th>0</th>\n",
              "      <td>300</td>\n",
              "      <td>11</td>\n",
              "    </tr>\n",
              "    <tr>\n",
              "      <th>1</th>\n",
              "      <td>301</td>\n",
              "      <td>7</td>\n",
              "    </tr>\n",
              "    <tr>\n",
              "      <th>2</th>\n",
              "      <td>302</td>\n",
              "      <td>5</td>\n",
              "    </tr>\n",
              "    <tr>\n",
              "      <th>3</th>\n",
              "      <td>303</td>\n",
              "      <td>7</td>\n",
              "    </tr>\n",
              "    <tr>\n",
              "      <th>4</th>\n",
              "      <td>304</td>\n",
              "      <td>7</td>\n",
              "    </tr>\n",
              "    <tr>\n",
              "      <th>...</th>\n",
              "      <td>...</td>\n",
              "      <td>...</td>\n",
              "    </tr>\n",
              "    <tr>\n",
              "      <th>188</th>\n",
              "      <td>496</td>\n",
              "      <td>2</td>\n",
              "    </tr>\n",
              "    <tr>\n",
              "      <th>189</th>\n",
              "      <td>497</td>\n",
              "      <td>2</td>\n",
              "    </tr>\n",
              "    <tr>\n",
              "      <th>190</th>\n",
              "      <td>498</td>\n",
              "      <td>3</td>\n",
              "    </tr>\n",
              "    <tr>\n",
              "      <th>191</th>\n",
              "      <td>499</td>\n",
              "      <td>1</td>\n",
              "    </tr>\n",
              "    <tr>\n",
              "      <th>192</th>\n",
              "      <td>500</td>\n",
              "      <td>4</td>\n",
              "    </tr>\n",
              "  </tbody>\n",
              "</table>\n",
              "<p>193 rows × 2 columns</p>\n",
              "</div>"
            ],
            "text/plain": [
              "     댓글길이  댓글개수\n",
              "0     300    11\n",
              "1     301     7\n",
              "2     302     5\n",
              "3     303     7\n",
              "4     304     7\n",
              "..    ...   ...\n",
              "188   496     2\n",
              "189   497     2\n",
              "190   498     3\n",
              "191   499     1\n",
              "192   500     4\n",
              "\n",
              "[193 rows x 2 columns]"
            ]
          },
          "metadata": {
            "tags": []
          },
          "execution_count": 99
        }
      ]
    },
    {
      "cell_type": "code",
      "metadata": {
        "colab": {
          "base_uri": "https://localhost:8080/",
          "height": 281
        },
        "id": "yov589H_nTWi",
        "outputId": "67fe4648-dee4-4045-b3fd-1352bd64876d"
      },
      "source": [
        "plt.title('Comment Length Visualization')\n",
        "plt.plot(len_count['댓글길이'], len_count['댓글개수']) #앞이 x축, 뒤가 y축\n",
        "# plt.xlabel('댓글길이')\n",
        "# plt.ylabel('댓글개수')\n",
        "plt.show()"
      ],
      "execution_count": 100,
      "outputs": [
        {
          "output_type": "display_data",
          "data": {
            "image/png": "[encoded data removed]",
            "text/plain": [
              "<Figure size 432x288 with 1 Axes>"
            ]
          },
          "metadata": {
            "tags": [],
            "needs_background": "light"
          }
        }
      ]
    },
    {
      "cell_type": "code",
      "metadata": {
        "id": "IX0t3CdUnTaX"
      },
      "source": [
        ""
      ],
      "execution_count": null,
      "outputs": []
    },
    {
      "cell_type": "code",
      "metadata": {
        "id": "IUy4VdabnTfF"
      },
      "source": [
        ""
      ],
      "execution_count": null,
      "outputs": []
    },
    {
      "cell_type": "code",
      "metadata": {
        "id": "G3gOBZXPnTjT"
      },
      "source": [
        ""
      ],
      "execution_count": null,
      "outputs": []
    },
    {
      "cell_type": "code",
      "metadata": {
        "id": "QMwKYwXinTos"
      },
      "source": [
        ""
      ],
      "execution_count": null,
      "outputs": []
    },
    {
      "cell_type": "code",
      "metadata": {
        "id": "Va23O5DtnTsv"
      },
      "source": [
        ""
      ],
      "execution_count": null,
      "outputs": []
    },
    {
      "cell_type": "code",
      "metadata": {
        "id": "EzRSzRW_nTyQ"
      },
      "source": [
        ""
      ],
      "execution_count": null,
      "outputs": []
    }
  ]
}